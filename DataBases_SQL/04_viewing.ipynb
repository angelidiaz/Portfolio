{
 "cells": [
  {
   "metadata": {},
   "cell_type": "markdown",
   "source": [
    "## Report: Analyzing Boston AirBnB Data\n",
    "\n",
    "This project involves creating SQL views on the `bnb.db` database, associated with the problem set available at [https://cs50.harvard.edu/sql/2024/psets/4/bnb/](https://cs50.harvard.edu/sql/2024/psets/4/bnb/), to understand the impact of AirBnB on the local tourism scene in Boston. The `bnb.db` database contains information sourced directly from AirBnB, structured across three tables: `listings`, `reviews`, and `availabilities`. By constructing specific views, we aim to gain insights into various aspects of AirBnB properties, their reviews, and their availability within the city."
   ],
   "id": "23508ea84e26d414"
  },
  {
   "metadata": {},
   "cell_type": "markdown",
   "source": [
    "## Database Schema: `bnb.db`\n",
    "\n",
    "The `bnb.db` database comprises three tables designed to capture different facets of AirBnB listings in Boston. The schema for each table is outlined below:\n",
    "\n",
    "### `listings` Table\n",
    "\n",
    "| Column Name   | Data Type | Description                                                                 |\n",
    "|---------------|-----------|-----------------------------------------------------------------------------|\n",
    "| `id`          | INTEGER   | Unique identifier for each AirBnB listing.                                |\n",
    "| `property_type`| TEXT      | The type of property being listed (e.g., \"Entire rental unit\", \"Private room\"). |\n",
    "| `host_name`   | TEXT      | The AirBnB username of the host who owns the listing.                      |\n",
    "| `accommodates`| INTEGER   | The maximum number of guests the listing can accommodate.                  |\n",
    "| `bedrooms`    | INTEGER   | The number of bedrooms available in the listing.                           |\n",
    "| `description` | TEXT      | The textual description provided for the listing on AirBnB.                |\n",
    "\n",
    "### `reviews` Table\n",
    "\n",
    "| Column Name   | Data Type | Description                                                        |\n",
    "|---------------|-----------|--------------------------------------------------------------------|\n",
    "| `id`          | INTEGER   | Unique identifier for each review.                               |\n",
    "| `listing_id`  | INTEGER   | Foreign key referencing the `id` in the `listings` table.           |\n",
    "| `date`        | TEXT      | The date when the review was posted.                             |\n",
    "| `reviewer_name`| TEXT      | The AirBnB username of the user who wrote the review.               |\n",
    "| `comments`    | TEXT      | The textual content of the review.                               |\n",
    "\n",
    "### `availabilities` Table\n",
    "\n",
    "| Column Name | Data Type | Description                                                               |\n",
    "|-------------|-----------|---------------------------------------------------------------------------|\n",
    "| `id`        | INTEGER   | Unique identifier for each availability record.                         |\n",
    "| `listing_id`| INTEGER   | Foreign key referencing the `id` in the `listings` table.            |\n",
    "| `date`      | TEXT      | The date for which availability is being recorded.                       |\n",
    "| `available` | BOOLEAN   | Indicates if the listing is available for booking on the given date (TRUE/FALSE). |\n",
    "| `price`     | REAL      | The price of staying at the listing on the given date.                   |\n",
    "\n",
    "## Project Specification: Creating SQL Views\n",
    "\n",
    "The project requires the creation of several SQL views based on the data within these tables. Each view should be designed to provide a specific perspective on the AirBnB data in Boston. It's important to note that each view must be self-contained and not rely on the existence of any other previously created view."
   ],
   "id": "245473b89ca63cfb"
  },
  {
   "cell_type": "code",
   "id": "initial_id",
   "metadata": {
    "collapsed": true,
    "ExecuteTime": {
     "end_time": "2025-04-25T18:15:14.220667Z",
     "start_time": "2025-04-25T18:15:14.215921Z"
    }
   },
   "source": [
    "import sqlite3\n",
    "import pandas as pd"
   ],
   "outputs": [],
   "execution_count": 16
  },
  {
   "metadata": {},
   "cell_type": "markdown",
   "source": "### Connecting to the Database",
   "id": "98b026c7e0278138"
  },
  {
   "metadata": {
    "ExecuteTime": {
     "end_time": "2025-04-25T18:15:14.276284Z",
     "start_time": "2025-04-25T18:15:14.242911Z"
    }
   },
   "cell_type": "code",
   "source": [
    "connection = sqlite3.connect(\"data_bases/bnb.db\")\n",
    "print(\"Connected to the database!\")"
   ],
   "id": "901101a70d6593bb",
   "outputs": [
    {
     "name": "stdout",
     "output_type": "stream",
     "text": [
      "Connected to the database!\n"
     ]
    }
   ],
   "execution_count": 17
  },
  {
   "metadata": {},
   "cell_type": "markdown",
   "source": "Dropping Views if they already exist",
   "id": "dc2dcc34de2da0b"
  },
  {
   "metadata": {
    "ExecuteTime": {
     "end_time": "2025-04-25T18:15:14.595130Z",
     "start_time": "2025-04-25T18:15:14.301249Z"
    }
   },
   "cell_type": "code",
   "source": [
    "cursor = connection.cursor()\n",
    "\n",
    "drop_views = \"\"\"\n",
    "DROP VIEW IF EXISTS frequently_reviewed;\n",
    "DROP VIEW IF EXISTS available;\n",
    "DROP VIEW IF EXISTS june_vacancies;\n",
    "DROP VIEW IF EXISTS no_descriptions;\n",
    "DROP VIEW IF EXISTS one_bedrooms;\n",
    "\"\"\"\n",
    "\n",
    "cursor.executescript(drop_views)\n",
    "\n",
    "# Commit and close\n",
    "connection.commit()"
   ],
   "id": "63026096dc9b3d41",
   "outputs": [],
   "execution_count": 18
  },
  {
   "metadata": {},
   "cell_type": "markdown",
   "source": "1. Write a SQL statement to create a view named no_descriptions that includes all of the columns in the listings table except for description.",
   "id": "b1864ec5aa8945a1"
  },
  {
   "metadata": {
    "ExecuteTime": {
     "end_time": "2025-04-25T18:15:14.695713Z",
     "start_time": "2025-04-25T18:15:14.614723Z"
    }
   },
   "cell_type": "code",
   "source": [
    "cursor.execute(\"\"\"\n",
    "CREATE VIEW IF NOT EXISTS no_descriptions AS\n",
    "SELECT id, property_type, host_name, accommodates, bedrooms\n",
    "FROM listings;\n",
    "\"\"\")\n",
    "\n",
    "connection.commit()"
   ],
   "id": "28627f61171409c2",
   "outputs": [],
   "execution_count": 19
  },
  {
   "metadata": {
    "ExecuteTime": {
     "end_time": "2025-04-25T18:15:14.742759Z",
     "start_time": "2025-04-25T18:15:14.727182Z"
    }
   },
   "cell_type": "code",
   "source": [
    "query = \"\"\"\n",
    "SELECT *\n",
    "FROM \"no_descriptions\"\n",
    "LIMIT 5\n",
    ";\n",
    "\"\"\"\n",
    "\n",
    "df = pd.read_sql_query(query, connection)\n",
    "\n",
    "df"
   ],
   "id": "a7056c4e302029e5",
   "outputs": [
    {
     "data": {
      "text/plain": [
       "      id       property_type host_name  accommodates  bedrooms\n",
       "0   3781  Entire rental unit     Frank             2       1.0\n",
       "1   5506  Entire guest suite     Terry             2       1.0\n",
       "2   6695        Entire condo     Terry             4       NaN\n",
       "3   8789  Entire rental unit      Anne             2       1.0\n",
       "4  10813  Entire rental unit  Michelle             2       NaN"
      ],
      "text/html": [
       "<div>\n",
       "<style scoped>\n",
       "    .dataframe tbody tr th:only-of-type {\n",
       "        vertical-align: middle;\n",
       "    }\n",
       "\n",
       "    .dataframe tbody tr th {\n",
       "        vertical-align: top;\n",
       "    }\n",
       "\n",
       "    .dataframe thead th {\n",
       "        text-align: right;\n",
       "    }\n",
       "</style>\n",
       "<table border=\"1\" class=\"dataframe\">\n",
       "  <thead>\n",
       "    <tr style=\"text-align: right;\">\n",
       "      <th></th>\n",
       "      <th>id</th>\n",
       "      <th>property_type</th>\n",
       "      <th>host_name</th>\n",
       "      <th>accommodates</th>\n",
       "      <th>bedrooms</th>\n",
       "    </tr>\n",
       "  </thead>\n",
       "  <tbody>\n",
       "    <tr>\n",
       "      <th>0</th>\n",
       "      <td>3781</td>\n",
       "      <td>Entire rental unit</td>\n",
       "      <td>Frank</td>\n",
       "      <td>2</td>\n",
       "      <td>1.0</td>\n",
       "    </tr>\n",
       "    <tr>\n",
       "      <th>1</th>\n",
       "      <td>5506</td>\n",
       "      <td>Entire guest suite</td>\n",
       "      <td>Terry</td>\n",
       "      <td>2</td>\n",
       "      <td>1.0</td>\n",
       "    </tr>\n",
       "    <tr>\n",
       "      <th>2</th>\n",
       "      <td>6695</td>\n",
       "      <td>Entire condo</td>\n",
       "      <td>Terry</td>\n",
       "      <td>4</td>\n",
       "      <td>NaN</td>\n",
       "    </tr>\n",
       "    <tr>\n",
       "      <th>3</th>\n",
       "      <td>8789</td>\n",
       "      <td>Entire rental unit</td>\n",
       "      <td>Anne</td>\n",
       "      <td>2</td>\n",
       "      <td>1.0</td>\n",
       "    </tr>\n",
       "    <tr>\n",
       "      <th>4</th>\n",
       "      <td>10813</td>\n",
       "      <td>Entire rental unit</td>\n",
       "      <td>Michelle</td>\n",
       "      <td>2</td>\n",
       "      <td>NaN</td>\n",
       "    </tr>\n",
       "  </tbody>\n",
       "</table>\n",
       "</div>"
      ]
     },
     "execution_count": 20,
     "metadata": {},
     "output_type": "execute_result"
    }
   ],
   "execution_count": 20
  },
  {
   "metadata": {},
   "cell_type": "markdown",
   "source": [
    "2. Write a SQL statement to create a view named one_bedrooms. This view should contain all listings that have exactly one bedroom. Ensure the view contains the following columns:\n",
    "\n",
    "* id, which is the id of the listing from the listings table.\n",
    "* property_type, from the listings table.\n",
    "* host_name, from the listings table.\n",
    "* accommodates, from the listings table."
   ],
   "id": "a867abc5e3d23bcd"
  },
  {
   "metadata": {
    "ExecuteTime": {
     "end_time": "2025-04-25T18:15:14.957923Z",
     "start_time": "2025-04-25T18:15:14.846357Z"
    }
   },
   "cell_type": "code",
   "source": [
    "cursor.execute(\"\"\"\n",
    "CREATE VIEW IF NOT EXISTS \"one_bedrooms\" AS\n",
    "SELECT \"id\", \"property_type\", \"host_name\" \"accommodates\"\n",
    "FROM \"listings\"\n",
    "WHERE \"bedrooms\" = 1;\n",
    "\"\"\")\n",
    "\n",
    "connection.commit()"
   ],
   "id": "1f06a914ee80d303",
   "outputs": [],
   "execution_count": 21
  },
  {
   "metadata": {
    "ExecuteTime": {
     "end_time": "2025-04-25T18:15:15.036020Z",
     "start_time": "2025-04-25T18:15:15.024839Z"
    }
   },
   "cell_type": "code",
   "source": [
    "query = \"\"\"\n",
    "SELECT *\n",
    "FROM \"one_bedrooms\"\n",
    "LIMIT 5\n",
    ";\n",
    "\"\"\"\n",
    "\n",
    "df = pd.read_sql_query(query, connection)\n",
    "\n",
    "df"
   ],
   "id": "d5788d399b800dbc",
   "outputs": [
    {
     "data": {
      "text/plain": [
       "      id       property_type accommodates\n",
       "0   3781  Entire rental unit        Frank\n",
       "1   5506  Entire guest suite        Terry\n",
       "2   8789  Entire rental unit         Anne\n",
       "3  29765  Entire rental unit    Elizabeth\n",
       "4  45987  Entire rental unit         Atef"
      ],
      "text/html": [
       "<div>\n",
       "<style scoped>\n",
       "    .dataframe tbody tr th:only-of-type {\n",
       "        vertical-align: middle;\n",
       "    }\n",
       "\n",
       "    .dataframe tbody tr th {\n",
       "        vertical-align: top;\n",
       "    }\n",
       "\n",
       "    .dataframe thead th {\n",
       "        text-align: right;\n",
       "    }\n",
       "</style>\n",
       "<table border=\"1\" class=\"dataframe\">\n",
       "  <thead>\n",
       "    <tr style=\"text-align: right;\">\n",
       "      <th></th>\n",
       "      <th>id</th>\n",
       "      <th>property_type</th>\n",
       "      <th>accommodates</th>\n",
       "    </tr>\n",
       "  </thead>\n",
       "  <tbody>\n",
       "    <tr>\n",
       "      <th>0</th>\n",
       "      <td>3781</td>\n",
       "      <td>Entire rental unit</td>\n",
       "      <td>Frank</td>\n",
       "    </tr>\n",
       "    <tr>\n",
       "      <th>1</th>\n",
       "      <td>5506</td>\n",
       "      <td>Entire guest suite</td>\n",
       "      <td>Terry</td>\n",
       "    </tr>\n",
       "    <tr>\n",
       "      <th>2</th>\n",
       "      <td>8789</td>\n",
       "      <td>Entire rental unit</td>\n",
       "      <td>Anne</td>\n",
       "    </tr>\n",
       "    <tr>\n",
       "      <th>3</th>\n",
       "      <td>29765</td>\n",
       "      <td>Entire rental unit</td>\n",
       "      <td>Elizabeth</td>\n",
       "    </tr>\n",
       "    <tr>\n",
       "      <th>4</th>\n",
       "      <td>45987</td>\n",
       "      <td>Entire rental unit</td>\n",
       "      <td>Atef</td>\n",
       "    </tr>\n",
       "  </tbody>\n",
       "</table>\n",
       "</div>"
      ]
     },
     "execution_count": 22,
     "metadata": {},
     "output_type": "execute_result"
    }
   ],
   "execution_count": 22
  },
  {
   "metadata": {},
   "cell_type": "markdown",
   "source": [
    "3. Write a SQL statement to create a view named available. This view should contain all dates that are available at all listings. Ensure the view contains the following columns:\n",
    "\n",
    "* id, which is the id of the listing from the listings table.\n",
    "* property_type, from the listings table.\n",
    "* host_name, from the listings table.\n",
    "* date, from the availabilities table, which is the date of the availability."
   ],
   "id": "5cb77e31c0dc060f"
  },
  {
   "metadata": {
    "ExecuteTime": {
     "end_time": "2025-04-25T18:15:15.251417Z",
     "start_time": "2025-04-25T18:15:15.177584Z"
    }
   },
   "cell_type": "code",
   "source": [
    "cursor.execute(\"\"\"\n",
    "CREATE VIEW IF NOT EXISTS \"available\" AS\n",
    "SELECT \"listings\".\"id\", \"listings\".\"property_type\", \"listings\".\"host_name\",\"availabilities\".\"date\"\n",
    "FROM \"listings\"\n",
    "JOIN \"availabilities\" ON \"listings\".\"id\" = \"availabilities\".\"listing_id\"\n",
    "WHERE \"availabilities\".\"available\" = 'TRUE';\n",
    "\"\"\")\n",
    "\n",
    "connection.commit()"
   ],
   "id": "6a86067cd2d44ce0",
   "outputs": [],
   "execution_count": 23
  },
  {
   "metadata": {
    "ExecuteTime": {
     "end_time": "2025-04-25T18:15:15.400522Z",
     "start_time": "2025-04-25T18:15:15.388674Z"
    }
   },
   "cell_type": "code",
   "source": [
    "query = \"\"\"\n",
    "SELECT *\n",
    "FROM \"available\"\n",
    "LIMIT 5\n",
    ";\n",
    "\"\"\"\n",
    "\n",
    "df = pd.read_sql_query(query, connection)\n",
    "\n",
    "df"
   ],
   "id": "59580c3b8c221fa8",
   "outputs": [
    {
     "data": {
      "text/plain": [
       "     id       property_type host_name        date\n",
       "0  3781  Entire rental unit     Frank  2023-07-14\n",
       "1  3781  Entire rental unit     Frank  2023-07-15\n",
       "2  3781  Entire rental unit     Frank  2023-07-16\n",
       "3  3781  Entire rental unit     Frank  2023-07-17\n",
       "4  3781  Entire rental unit     Frank  2023-07-18"
      ],
      "text/html": [
       "<div>\n",
       "<style scoped>\n",
       "    .dataframe tbody tr th:only-of-type {\n",
       "        vertical-align: middle;\n",
       "    }\n",
       "\n",
       "    .dataframe tbody tr th {\n",
       "        vertical-align: top;\n",
       "    }\n",
       "\n",
       "    .dataframe thead th {\n",
       "        text-align: right;\n",
       "    }\n",
       "</style>\n",
       "<table border=\"1\" class=\"dataframe\">\n",
       "  <thead>\n",
       "    <tr style=\"text-align: right;\">\n",
       "      <th></th>\n",
       "      <th>id</th>\n",
       "      <th>property_type</th>\n",
       "      <th>host_name</th>\n",
       "      <th>date</th>\n",
       "    </tr>\n",
       "  </thead>\n",
       "  <tbody>\n",
       "    <tr>\n",
       "      <th>0</th>\n",
       "      <td>3781</td>\n",
       "      <td>Entire rental unit</td>\n",
       "      <td>Frank</td>\n",
       "      <td>2023-07-14</td>\n",
       "    </tr>\n",
       "    <tr>\n",
       "      <th>1</th>\n",
       "      <td>3781</td>\n",
       "      <td>Entire rental unit</td>\n",
       "      <td>Frank</td>\n",
       "      <td>2023-07-15</td>\n",
       "    </tr>\n",
       "    <tr>\n",
       "      <th>2</th>\n",
       "      <td>3781</td>\n",
       "      <td>Entire rental unit</td>\n",
       "      <td>Frank</td>\n",
       "      <td>2023-07-16</td>\n",
       "    </tr>\n",
       "    <tr>\n",
       "      <th>3</th>\n",
       "      <td>3781</td>\n",
       "      <td>Entire rental unit</td>\n",
       "      <td>Frank</td>\n",
       "      <td>2023-07-17</td>\n",
       "    </tr>\n",
       "    <tr>\n",
       "      <th>4</th>\n",
       "      <td>3781</td>\n",
       "      <td>Entire rental unit</td>\n",
       "      <td>Frank</td>\n",
       "      <td>2023-07-18</td>\n",
       "    </tr>\n",
       "  </tbody>\n",
       "</table>\n",
       "</div>"
      ]
     },
     "execution_count": 24,
     "metadata": {},
     "output_type": "execute_result"
    }
   ],
   "execution_count": 24
  },
  {
   "metadata": {},
   "cell_type": "markdown",
   "source": [
    "4. write a SQL statement to create a view named june_vacancies. This view should contain all listings and the number of days in June of 2023 that they remained vacant. Ensure the view contains the following columns:\n",
    "\n",
    "* id, which is the id of the listing from the listings table.\n",
    "* property_type, from the listings table.\n",
    "* host_name, from the listings table.\n",
    "* days_vacant, which is the number of days in June of 2023, that the given listing was marked as available."
   ],
   "id": "ae5f06c14d9fe195"
  },
  {
   "metadata": {
    "ExecuteTime": {
     "end_time": "2025-04-25T18:15:15.655969Z",
     "start_time": "2025-04-25T18:15:15.537097Z"
    }
   },
   "cell_type": "code",
   "source": [
    "cursor.execute(\"\"\"\n",
    "CREATE VIEW IF NOT EXISTS \"june_vacancies\" AS\n",
    "SELECT \"listings\".\"id\", \"listings\".\"property_type\", \"listings\".\"host_name\",\n",
    "COUNT(\"availabilities\".\"date\") AS \"days_vacant\"\n",
    "FROM \"listings\"\n",
    "JOIN \"availabilities\" ON \"listings\".\"id\" = \"availabilities\".\"listing_id\"\n",
    "WHERE \"availabilities\".\"available\" = 'TRUE'\n",
    "AND \"availabilities\".\"date\" >= '2023-06-01'\n",
    "AND \"availabilities\".\"date\" <= '2023-06-31'\n",
    "GROUP BY \"listings\".\"id\";\n",
    "\"\"\")\n",
    "\n",
    "connection.commit()"
   ],
   "id": "5761f7cd366a4bc3",
   "outputs": [],
   "execution_count": 25
  },
  {
   "metadata": {
    "ExecuteTime": {
     "end_time": "2025-04-25T18:15:15.896851Z",
     "start_time": "2025-04-25T18:15:15.716200Z"
    }
   },
   "cell_type": "code",
   "source": [
    "query = \"\"\"\n",
    "SELECT *\n",
    "FROM \"june_vacancies\"\n",
    "LIMIT 5\n",
    ";\n",
    "\"\"\"\n",
    "\n",
    "df = pd.read_sql_query(query, connection)\n",
    "\n",
    "df"
   ],
   "id": "c43fccb3b5931368",
   "outputs": [
    {
     "data": {
      "text/plain": [
       "       id                      property_type    host_name  days_vacant\n",
       "0   10813                 Entire rental unit     Michelle            9\n",
       "1   10986                       Entire condo     Michelle            9\n",
       "2   67774                       Entire condo         Anne            1\n",
       "3  184893  Private room in bed and breakfast         Dawn            9\n",
       "4  210097                        Entire home  Maria Elena            2"
      ],
      "text/html": [
       "<div>\n",
       "<style scoped>\n",
       "    .dataframe tbody tr th:only-of-type {\n",
       "        vertical-align: middle;\n",
       "    }\n",
       "\n",
       "    .dataframe tbody tr th {\n",
       "        vertical-align: top;\n",
       "    }\n",
       "\n",
       "    .dataframe thead th {\n",
       "        text-align: right;\n",
       "    }\n",
       "</style>\n",
       "<table border=\"1\" class=\"dataframe\">\n",
       "  <thead>\n",
       "    <tr style=\"text-align: right;\">\n",
       "      <th></th>\n",
       "      <th>id</th>\n",
       "      <th>property_type</th>\n",
       "      <th>host_name</th>\n",
       "      <th>days_vacant</th>\n",
       "    </tr>\n",
       "  </thead>\n",
       "  <tbody>\n",
       "    <tr>\n",
       "      <th>0</th>\n",
       "      <td>10813</td>\n",
       "      <td>Entire rental unit</td>\n",
       "      <td>Michelle</td>\n",
       "      <td>9</td>\n",
       "    </tr>\n",
       "    <tr>\n",
       "      <th>1</th>\n",
       "      <td>10986</td>\n",
       "      <td>Entire condo</td>\n",
       "      <td>Michelle</td>\n",
       "      <td>9</td>\n",
       "    </tr>\n",
       "    <tr>\n",
       "      <th>2</th>\n",
       "      <td>67774</td>\n",
       "      <td>Entire condo</td>\n",
       "      <td>Anne</td>\n",
       "      <td>1</td>\n",
       "    </tr>\n",
       "    <tr>\n",
       "      <th>3</th>\n",
       "      <td>184893</td>\n",
       "      <td>Private room in bed and breakfast</td>\n",
       "      <td>Dawn</td>\n",
       "      <td>9</td>\n",
       "    </tr>\n",
       "    <tr>\n",
       "      <th>4</th>\n",
       "      <td>210097</td>\n",
       "      <td>Entire home</td>\n",
       "      <td>Maria Elena</td>\n",
       "      <td>2</td>\n",
       "    </tr>\n",
       "  </tbody>\n",
       "</table>\n",
       "</div>"
      ]
     },
     "execution_count": 26,
     "metadata": {},
     "output_type": "execute_result"
    }
   ],
   "execution_count": 26
  },
  {
   "metadata": {},
   "cell_type": "markdown",
   "source": [
    "5. write a SQL statement to create a view named frequently_reviewed. This view should contain the 100 most frequently reviewed listings, sorted from most- to least-frequently reviewed. Ensure the view contains the following columns:\n",
    "\n",
    "* id, which is the id of the listing from the listings table.\n",
    "* property_type, from the listings table.\n",
    "* host_name, from the listings table.\n",
    "* reviews, which is the number of reviews the listing has received.\n",
    "\n",
    "If any two listings have the same number of reviews, sort by property_type (in alphabetical order), followed by host_name (in alphabetical order)."
   ],
   "id": "a2cdc1b83d75b41e"
  },
  {
   "metadata": {
    "ExecuteTime": {
     "end_time": "2025-04-25T18:15:16.073158Z",
     "start_time": "2025-04-25T18:15:15.979998Z"
    }
   },
   "cell_type": "code",
   "source": [
    "cursor.execute(\"\"\"\n",
    "CREATE VIEW IF NOT EXISTS \"frequently_reviewed\" AS\n",
    "SELECT \"listings\".\"id\", \"listings\".\"property_type\", \"listings\".\"host_name\",\n",
    "COUNT(\"reviews\".\"id\") AS \"reviews\"\n",
    "FROM \"listings\"\n",
    "JOIN \"reviews\" ON \"listings\".\"id\" = \"reviews\".\"listing_id\"\n",
    "GROUP BY \"listings\".\"id\"\n",
    "ORDER BY \"reviews\" DESC\n",
    "LIMIT 100;\n",
    "\"\"\")\n",
    "\n",
    "connection.commit()"
   ],
   "id": "415106a9b5fad34e",
   "outputs": [],
   "execution_count": 27
  },
  {
   "metadata": {
    "ExecuteTime": {
     "end_time": "2025-04-25T18:15:16.511584Z",
     "start_time": "2025-04-25T18:15:16.209428Z"
    }
   },
   "cell_type": "code",
   "source": [
    "query = \"\"\"\n",
    "SELECT *\n",
    "FROM \"frequently_reviewed\"\n",
    "LIMIT 5\n",
    ";\n",
    "\"\"\"\n",
    "\n",
    "df = pd.read_sql_query(query, connection)\n",
    "\n",
    "df"
   ],
   "id": "634fc2ca50657b5b",
   "outputs": [
    {
     "data": {
      "text/plain": [
       "         id         property_type                        host_name  reviews\n",
       "0   4090224           Entire home                          Tiffany      860\n",
       "1  18290558  Private room in home                    Boris & Susan      786\n",
       "2    815639          Entire condo                            Jason      773\n",
       "3    916123          Entire condo                            Jason      767\n",
       "4  18584891  Private room in home  Roger Michael &Quot;Corey&Quot;      733"
      ],
      "text/html": [
       "<div>\n",
       "<style scoped>\n",
       "    .dataframe tbody tr th:only-of-type {\n",
       "        vertical-align: middle;\n",
       "    }\n",
       "\n",
       "    .dataframe tbody tr th {\n",
       "        vertical-align: top;\n",
       "    }\n",
       "\n",
       "    .dataframe thead th {\n",
       "        text-align: right;\n",
       "    }\n",
       "</style>\n",
       "<table border=\"1\" class=\"dataframe\">\n",
       "  <thead>\n",
       "    <tr style=\"text-align: right;\">\n",
       "      <th></th>\n",
       "      <th>id</th>\n",
       "      <th>property_type</th>\n",
       "      <th>host_name</th>\n",
       "      <th>reviews</th>\n",
       "    </tr>\n",
       "  </thead>\n",
       "  <tbody>\n",
       "    <tr>\n",
       "      <th>0</th>\n",
       "      <td>4090224</td>\n",
       "      <td>Entire home</td>\n",
       "      <td>Tiffany</td>\n",
       "      <td>860</td>\n",
       "    </tr>\n",
       "    <tr>\n",
       "      <th>1</th>\n",
       "      <td>18290558</td>\n",
       "      <td>Private room in home</td>\n",
       "      <td>Boris &amp; Susan</td>\n",
       "      <td>786</td>\n",
       "    </tr>\n",
       "    <tr>\n",
       "      <th>2</th>\n",
       "      <td>815639</td>\n",
       "      <td>Entire condo</td>\n",
       "      <td>Jason</td>\n",
       "      <td>773</td>\n",
       "    </tr>\n",
       "    <tr>\n",
       "      <th>3</th>\n",
       "      <td>916123</td>\n",
       "      <td>Entire condo</td>\n",
       "      <td>Jason</td>\n",
       "      <td>767</td>\n",
       "    </tr>\n",
       "    <tr>\n",
       "      <th>4</th>\n",
       "      <td>18584891</td>\n",
       "      <td>Private room in home</td>\n",
       "      <td>Roger Michael &amp;Quot;Corey&amp;Quot;</td>\n",
       "      <td>733</td>\n",
       "    </tr>\n",
       "  </tbody>\n",
       "</table>\n",
       "</div>"
      ]
     },
     "execution_count": 28,
     "metadata": {},
     "output_type": "execute_result"
    }
   ],
   "execution_count": 28
  },
  {
   "metadata": {
    "ExecuteTime": {
     "end_time": "2025-04-25T18:15:16.583287Z",
     "start_time": "2025-04-25T18:15:16.578246Z"
    }
   },
   "cell_type": "code",
   "source": "connection.close()",
   "id": "b2ed93f8fad28e52",
   "outputs": [],
   "execution_count": 29
  }
 ],
 "metadata": {
  "kernelspec": {
   "display_name": "Python 3",
   "language": "python",
   "name": "python3"
  },
  "language_info": {
   "codemirror_mode": {
    "name": "ipython",
    "version": 2
   },
   "file_extension": ".py",
   "mimetype": "text/x-python",
   "name": "python",
   "nbconvert_exporter": "python",
   "pygments_lexer": "ipython2",
   "version": "2.7.6"
  }
 },
 "nbformat": 4,
 "nbformat_minor": 5
}
