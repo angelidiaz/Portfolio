{
 "cells": [
  {
   "metadata": {},
   "cell_type": "markdown",
   "source": [
    "## Report: Importing and Cleaning NASA Meteorite Data\n",
    "\n",
    "This project focuses on importing and cleaning a CSV file containing historical meteorite landing data into a SQLite database named `meteorites.db`. This task is part of the problem set available at [https://cs50.harvard.edu/sql/2024/psets/3/meteorites/](https://cs50.harvard.edu/sql/2024/psets/3/meteorites/). The goal is to transform the raw data into a structured and clean format suitable for analysis by NASA engineers. The process involves creating a new table named `meteorites` within the database and populating it with a subset of the columns from the CSV file, while also addressing data quality issues such as empty values, decimal precision, and irrelevant entries."
   ],
   "id": "8bb6b4026d57c53f"
  },
  {
   "metadata": {},
   "cell_type": "markdown",
   "source": [
    "## Database Schema: `meteorites.db` - Table: `meteorites`\n",
    "\n",
    "The `meteorites` table within the `meteorites.db` database will be structured to store cleaned information about meteorite landings. The table will contain the following columns, derived and transformed from the source CSV file:\n",
    "\n",
    "| Column Name | Data Type | Description                                                                |\n",
    "|-------------|-----------|----------------------------------------------------------------------------|\n",
    "| `id`        | INTEGER   | A unique identifier for each meteorite, assigned based on the sorted data. |\n",
    "| `name`      | TEXT      | The given name of the meteorite.                                           |\n",
    "| `class`     | TEXT      | The classification of the meteorite based on based on the [traditional classification scheme](https://en.wikipedia.org/wiki/Meteorite_classification)..                             |\n",
    "| `mass`      | REAL      | The weight of the meteorite in grams.                                      |\n",
    "| `discovery` | TEXT      | Indicates whether the meteorite \"Fell\" or was \"Found\".                     |\n",
    "| `year`      | INTEGER   | The year in which the meteorite was discovered.                            |\n",
    "| `lat`       | REAL      | The latitude at which the meteorite landed.                                |\n",
    "| `long`      | REAL      | The longitude at which the meteorite landed.                               |\n"
   ],
   "id": "bfc4dc04cb869dc7"
  },
  {
   "metadata": {},
   "cell_type": "markdown",
   "source": [
    "## Data Import and Cleaning Process\n",
    "\n",
    "This notebook will contain a series SQLite commands to perform the following steps:\n",
    "\n",
    "1.  **Create the `meteorites` table:** Define the schema of the new table with the specified columns and data types.\n",
    "2.  **Import data from `meteorites.csv`:** Read the data from the CSV file.\n",
    "3.  **Clean and transform the data:**\n",
    "    * Handle empty values by converting them to `NULL`.\n",
    "    * Round the `mass`, `lat`, and `long` columns to the nearest hundredths place.\n",
    "    * Filter out meteorites where the `nametype` is \"Relict\".\n",
    "4.  **Sort the data:** Order the remaining meteorites first by `year` (ascending) and then by `name` (ascending).\n",
    "5.  **Assign new IDs:** Create a new `id` column and assign sequential integer values starting from 1 based on the sorted order.\n",
    "6.  **Insert the cleaned and transformed data** into the `meteorites` table."
   ],
   "id": "acb43056a3f278ee"
  },
  {
   "cell_type": "code",
   "id": "initial_id",
   "metadata": {
    "collapsed": true,
    "ExecuteTime": {
     "end_time": "2025-04-25T18:15:07.291441Z",
     "start_time": "2025-04-25T18:15:07.285077Z"
    }
   },
   "source": [
    "import sqlite3\n",
    "import pandas as pd"
   ],
   "outputs": [],
   "execution_count": 12
  },
  {
   "metadata": {},
   "cell_type": "markdown",
   "source": [
    "### Database Initialization\n",
    "\n",
    "This section handles the initial database setup and data preparation."
   ],
   "id": "8b18847f700486a5"
  },
  {
   "metadata": {
    "ExecuteTime": {
     "end_time": "2025-04-25T18:15:07.338789Z",
     "start_time": "2025-04-25T18:15:07.329668Z"
    }
   },
   "cell_type": "code",
   "source": [
    "connection = sqlite3.connect(\"data_bases/meteorites.db\")\n",
    "cursor = connection.cursor()\n",
    "print(\"Connected to the database successfully!\")"
   ],
   "id": "51f3785e3b126303",
   "outputs": [
    {
     "name": "stdout",
     "output_type": "stream",
     "text": [
      "Connected to the database successfully!\n"
     ]
    }
   ],
   "execution_count": 13
  },
  {
   "metadata": {},
   "cell_type": "markdown",
   "source": [
    "### Table Management\n",
    "Performing cleanup of existing structures:\n",
    "- Removing any existing tables to ensure fresh start\n",
    "- Preventing potential conflicts with previous data\n"
   ],
   "id": "350f4499d398db2"
  },
  {
   "metadata": {
    "ExecuteTime": {
     "end_time": "2025-04-25T18:15:07.813215Z",
     "start_time": "2025-04-25T18:15:07.400890Z"
    }
   },
   "cell_type": "code",
   "source": [
    "cursor.execute('DROP TABLE IF EXISTS meteorites_temp;')\n",
    "cursor.execute('DROP TABLE IF EXISTS meteorites;')\n",
    "df = pd.read_csv(\"data_bases/meteorites.csv\")"
   ],
   "id": "be7087806e237e61",
   "outputs": [],
   "execution_count": 14
  },
  {
   "metadata": {},
   "cell_type": "markdown",
   "source": [
    "### Data Pre-processing\n",
    "Setting up temporary structures for data cleaning:\n",
    "1. Converting empty values to SQL `NULL`\n",
    "2. Creating temporary table `meteorites_temp` for data staging\n",
    "3. Ensuring data consistency between pandas `None` and SQL `NULL` values"
   ],
   "id": "e80d201ac36ac4d"
  },
  {
   "metadata": {
    "ExecuteTime": {
     "end_time": "2025-04-25T18:15:08.253361Z",
     "start_time": "2025-04-25T18:15:07.838270Z"
    }
   },
   "cell_type": "code",
   "source": [
    "# Clean columns by replacing empty strings with NaN\n",
    "df = df.replace({\n",
    "    \"mass\": {\"\": pd.NA},\n",
    "    \"year\": {\"\": pd.NA},\n",
    "    \"lat\": {\"\": pd.NA},\n",
    "    \"long\": {\"\": pd.NA}\n",
    "})\n",
    "\n",
    "# Write temp table to the database\n",
    "df.to_sql(\"meteorites_temp\", connection, index=False)"
   ],
   "id": "8eb2ec520e530510",
   "outputs": [
    {
     "data": {
      "text/plain": [
       "45716"
      ]
     },
     "execution_count": 15,
     "metadata": {},
     "output_type": "execute_result"
    }
   ],
   "execution_count": 15
  },
  {
   "metadata": {
    "ExecuteTime": {
     "end_time": "2025-04-25T18:15:08.342245Z",
     "start_time": "2025-04-25T18:15:08.324118Z"
    }
   },
   "cell_type": "code",
   "source": [
    "query = \"\"\"\n",
    "SELECT *\n",
    "FROM meteorites_temp\n",
    "WHERE \"mass\" IS NULL\n",
    "LIMIT 5\n",
    ";\n",
    "\"\"\"\n",
    "\n",
    "df_0 = pd.read_sql_query(query, connection)\n",
    "\n",
    "df_0"
   ],
   "id": "7ba86ef16f8f51fd",
   "outputs": [
    {
     "data": {
      "text/plain": [
       "                name    id nametype       class  mass discovery    year  \\\n",
       "0    Aire-sur-la-Lys   425    Valid     Unknown  None      Fell  1769.0   \n",
       "1             Angers  2301    Valid          L6  None      Fell  1822.0   \n",
       "2  Barcelona (stone)  4944    Valid          OC  None      Fell  1704.0   \n",
       "3           Belville  5009    Valid          OC  None      Fell  1937.0   \n",
       "4  Castel Berardenga  5292    Valid  Stone-uncl  None      Fell  1791.0   \n",
       "\n",
       "        lat      long  \n",
       "0  50.66667   2.33333  \n",
       "1  47.46667  -0.55000  \n",
       "2  41.36667   2.16667  \n",
       "3 -32.33333 -64.86667  \n",
       "4  43.35000  11.50000  "
      ],
      "text/html": [
       "<div>\n",
       "<style scoped>\n",
       "    .dataframe tbody tr th:only-of-type {\n",
       "        vertical-align: middle;\n",
       "    }\n",
       "\n",
       "    .dataframe tbody tr th {\n",
       "        vertical-align: top;\n",
       "    }\n",
       "\n",
       "    .dataframe thead th {\n",
       "        text-align: right;\n",
       "    }\n",
       "</style>\n",
       "<table border=\"1\" class=\"dataframe\">\n",
       "  <thead>\n",
       "    <tr style=\"text-align: right;\">\n",
       "      <th></th>\n",
       "      <th>name</th>\n",
       "      <th>id</th>\n",
       "      <th>nametype</th>\n",
       "      <th>class</th>\n",
       "      <th>mass</th>\n",
       "      <th>discovery</th>\n",
       "      <th>year</th>\n",
       "      <th>lat</th>\n",
       "      <th>long</th>\n",
       "    </tr>\n",
       "  </thead>\n",
       "  <tbody>\n",
       "    <tr>\n",
       "      <th>0</th>\n",
       "      <td>Aire-sur-la-Lys</td>\n",
       "      <td>425</td>\n",
       "      <td>Valid</td>\n",
       "      <td>Unknown</td>\n",
       "      <td>None</td>\n",
       "      <td>Fell</td>\n",
       "      <td>1769.0</td>\n",
       "      <td>50.66667</td>\n",
       "      <td>2.33333</td>\n",
       "    </tr>\n",
       "    <tr>\n",
       "      <th>1</th>\n",
       "      <td>Angers</td>\n",
       "      <td>2301</td>\n",
       "      <td>Valid</td>\n",
       "      <td>L6</td>\n",
       "      <td>None</td>\n",
       "      <td>Fell</td>\n",
       "      <td>1822.0</td>\n",
       "      <td>47.46667</td>\n",
       "      <td>-0.55000</td>\n",
       "    </tr>\n",
       "    <tr>\n",
       "      <th>2</th>\n",
       "      <td>Barcelona (stone)</td>\n",
       "      <td>4944</td>\n",
       "      <td>Valid</td>\n",
       "      <td>OC</td>\n",
       "      <td>None</td>\n",
       "      <td>Fell</td>\n",
       "      <td>1704.0</td>\n",
       "      <td>41.36667</td>\n",
       "      <td>2.16667</td>\n",
       "    </tr>\n",
       "    <tr>\n",
       "      <th>3</th>\n",
       "      <td>Belville</td>\n",
       "      <td>5009</td>\n",
       "      <td>Valid</td>\n",
       "      <td>OC</td>\n",
       "      <td>None</td>\n",
       "      <td>Fell</td>\n",
       "      <td>1937.0</td>\n",
       "      <td>-32.33333</td>\n",
       "      <td>-64.86667</td>\n",
       "    </tr>\n",
       "    <tr>\n",
       "      <th>4</th>\n",
       "      <td>Castel Berardenga</td>\n",
       "      <td>5292</td>\n",
       "      <td>Valid</td>\n",
       "      <td>Stone-uncl</td>\n",
       "      <td>None</td>\n",
       "      <td>Fell</td>\n",
       "      <td>1791.0</td>\n",
       "      <td>43.35000</td>\n",
       "      <td>11.50000</td>\n",
       "    </tr>\n",
       "  </tbody>\n",
       "</table>\n",
       "</div>"
      ]
     },
     "execution_count": 16,
     "metadata": {},
     "output_type": "execute_result"
    }
   ],
   "execution_count": 16
  },
  {
   "metadata": {},
   "cell_type": "markdown",
   "source": [
    "### Schema Implementation\n",
    "Creating the `meteorites` table with proper:\n",
    "- Data types\n",
    "- Constraints\n",
    "- Field specifications"
   ],
   "id": "436631af0698e69f"
  },
  {
   "metadata": {
    "ExecuteTime": {
     "end_time": "2025-04-25T18:15:08.527910Z",
     "start_time": "2025-04-25T18:15:08.443850Z"
    }
   },
   "cell_type": "code",
   "source": [
    "cursor.execute(\"\"\"\n",
    "CREATE TABLE meteorites (\n",
    "    id INTEGER PRIMARY KEY,\n",
    "    name TEXT,\n",
    "    class TEXT,\n",
    "    mass NUMERIC,\n",
    "    discovery TEXT,\n",
    "    year NUMERIC,\n",
    "    lat NUMERIC,\n",
    "    long NUMERIC\n",
    ");\n",
    "\"\"\")"
   ],
   "id": "90321e2036cbd5df",
   "outputs": [
    {
     "data": {
      "text/plain": [
       "<sqlite3.Cursor at 0x712d23b5cec0>"
      ]
     },
     "execution_count": 17,
     "metadata": {},
     "output_type": "execute_result"
    }
   ],
   "execution_count": 17
  },
  {
   "metadata": {},
   "cell_type": "markdown",
   "source": [
    "### Data Migration\n",
    "Transferring data from temporary to final structure:\n",
    "- Using cleaned data from `meteorites_temp`\n",
    "- Applying filters and transformations\n",
    "- Ensuring data integrity during insertion"
   ],
   "id": "a1f0673d35b9d84a"
  },
  {
   "metadata": {
    "ExecuteTime": {
     "end_time": "2025-04-25T18:15:08.961418Z",
     "start_time": "2025-04-25T18:15:08.664490Z"
    }
   },
   "cell_type": "code",
   "source": [
    "cursor.execute(\"\"\"\n",
    "INSERT INTO meteorites (name, class, mass, discovery, year, lat, long)\n",
    "SELECT name, class, ROUND(mass, 2), discovery, year,\n",
    "       ROUND(lat, 2), ROUND(long, 2)\n",
    "FROM meteorites_temp\n",
    "WHERE nametype != 'Relict'\n",
    "ORDER BY year, name;\n",
    "\"\"\")\n",
    "\n",
    "# Commit and close\n",
    "connection.commit()\n",
    "connection.close()"
   ],
   "id": "bd0d86cb8b63af4e",
   "outputs": [],
   "execution_count": 18
  }
 ],
 "metadata": {
  "kernelspec": {
   "display_name": "Python 3",
   "language": "python",
   "name": "python3"
  },
  "language_info": {
   "codemirror_mode": {
    "name": "ipython",
    "version": 2
   },
   "file_extension": ".py",
   "mimetype": "text/x-python",
   "name": "python",
   "nbconvert_exporter": "python",
   "pygments_lexer": "ipython2",
   "version": "2.7.6"
  }
 },
 "nbformat": 4,
 "nbformat_minor": 5
}
