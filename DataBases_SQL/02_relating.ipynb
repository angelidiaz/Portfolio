{
 "cells": [
  {
   "metadata": {},
   "cell_type": "markdown",
   "source": [
    "# Investigating Missing Packages in Boston\n",
    "\n",
    "This project involves analyzing the `packages.db` database, associated with the problem set available at [https://cs50.harvard.edu/sql/2024/psets/1/packages/](https://cs50.harvard.edu/sql/2024/psets/1/packages/), to locate missing packages reported by concerned residents of Boston. As a mail clerk, the task is to use the provided database schema and the limited information given by each customer to determine the current location, address type, and contents of their lost parcels. The process of investigation will be documented through SQL queries, demonstrating the steps taken to solve each mystery."
   ],
   "id": "a5e51fcbb62ba8aa"
  },
  {
   "metadata": {},
   "cell_type": "markdown",
   "source": [
    "## Database Schema: `packages.db`\n",
    "\n",
    "The `packages.db` database contains several tables that track the delivery of packages within Boston. The relationships between these tables are essential for tracing the journey of each package. The schema of each table is detailed below:"
   ],
   "id": "6dd3f0192e0f30b8"
  },
  {
   "metadata": {},
   "cell_type": "markdown",
   "source": [
    "### `addresses` Table\n",
    "\n",
    "| Column Name | Data Type | Description                               |\n",
    "|-------------|-----------|-------------------------------------------|\n",
    "| `id`        | INTEGER   | Unique identifier for each address.       |\n",
    "| `address`   | TEXT      | The full street address (e.g., 7660 Sharon Street). |\n",
    "| `type`      | TEXT      | The type of address (e.g., residential, commercial). |"
   ],
   "id": "ec73a2a1b2742467"
  },
  {
   "metadata": {},
   "cell_type": "markdown",
   "source": [
    "### `drivers` Table\n",
    "\n",
    "| Column Name | Data Type | Description                     |\n",
    "|-------------|-----------|---------------------------------|\n",
    "| `id`        | INTEGER   | Unique identifier for each driver. |\n",
    "| `name`      | TEXT      | The first name of the driver.   |"
   ],
   "id": "88d014beb3f0e857"
  },
  {
   "metadata": {},
   "cell_type": "markdown",
   "source": [
    "### `packages` Table\n",
    "\n",
    "| Column Name      | Data Type | Description                                                              |\n",
    "|------------------|-----------|--------------------------------------------------------------------------|\n",
    "| `id`             | INTEGER   | Unique identifier for each package.                                      |\n",
    "| `contents`       | TEXT      | A description of the package's contents.                               |\n",
    "| `from_address_id`| INTEGER   | Foreign key referencing the `id` in the `addresses` table for the sender. |\n",
    "| `to_address_id`  | INTEGER   | Foreign key referencing the `id` in the `addresses` table for the intended recipient. **Note:** This is not necessarily the final destination. |"
   ],
   "id": "e7ca5e7b999b10dc"
  },
  {
   "metadata": {},
   "cell_type": "markdown",
   "source": [
    "### `scans` Table\n",
    "\n",
    "| Column Name | Data Type | Description                                                                 |\n",
    "|-------------|-----------|-----------------------------------------------------------------------------|\n",
    "| `id`        | INTEGER   | Unique identifier for each scan record.                                     |\n",
    "| `driver_id` | INTEGER   | Foreign key referencing the `id` in the `drivers` table for the driver who performed the scan. |\n",
    "| `package_id`| INTEGER   | Foreign key referencing the `id` in the `packages` table for the scanned package. |\n",
    "| `address_id`| INTEGER   | Foreign key referencing the `id` in the `addresses` table where the scan occurred. |\n",
    "| `action`    | TEXT      | The type of scan action: \"Pick\" (picked up) or \"Drop\" (dropped off).          |\n",
    "| `timestamp` | TEXT      | The date and time of the scan.                                              |"
   ],
   "id": "f8c44dd2d34b42d3"
  },
  {
   "metadata": {},
   "cell_type": "markdown",
   "source": [
    "## Investigation Process\n",
    "\n",
    "For each reported missing package, as detailed in the linked problem set, the investigation will involve formulating and executing SQL queries on the `packages.db` database. These queries will aim to trace the last known location of the package by examining the `scans` table, identify the type of address where the package was last scanned, and retrieve the contents of the package from the `packages` table."
   ],
   "id": "9fb75b1aaa6b831d"
  },
  {
   "cell_type": "code",
   "id": "initial_id",
   "metadata": {
    "collapsed": true,
    "ExecuteTime": {
     "end_time": "2025-04-25T18:14:27.044045Z",
     "start_time": "2025-04-25T18:14:27.039105Z"
    }
   },
   "source": [
    "import sqlite3\n",
    "import pandas as pd"
   ],
   "outputs": [],
   "execution_count": 18
  },
  {
   "metadata": {},
   "cell_type": "markdown",
   "source": "### Connecting to the Database",
   "id": "7d27f88ae8aeaa6e"
  },
  {
   "metadata": {
    "ExecuteTime": {
     "end_time": "2025-04-25T18:14:27.116682Z",
     "start_time": "2025-04-25T18:14:27.106933Z"
    }
   },
   "cell_type": "code",
   "source": [
    "connection = sqlite3.connect(\"data_bases/packages.db\")\n",
    "print(\"Connected to the database successfully!\")"
   ],
   "id": "2e4bf0052b9b2f8f",
   "outputs": [
    {
     "name": "stdout",
     "output_type": "stream",
     "text": [
      "Connected to the database successfully!\n"
     ]
    }
   ],
   "execution_count": 19
  },
  {
   "metadata": {},
   "cell_type": "markdown",
   "source": [
    "## The Lost Letter\n",
    "\n",
    "Clerk, my name’s Anneke. I live over at 900 Somerville Avenue. Not long ago, I sent out a special letter. It’s meant for my friend Varsha. She’s starting a new chapter of her life at 2 Finnegan Street, uptown. (That address, let me tell you: it was a bit tricky to get right the first time.) The letter is a congratulatory note—a cheery little paper hug from me to her, to celebrate this big move of hers. Can you check if it’s made its way to her yet?"
   ],
   "id": "b6e052cf2472e810"
  },
  {
   "metadata": {
    "ExecuteTime": {
     "end_time": "2025-04-25T18:14:27.246765Z",
     "start_time": "2025-04-25T18:14:27.171493Z"
    }
   },
   "cell_type": "code",
   "source": [
    "query = \"\"\"\n",
    "SELECT\n",
    "    scans.\"package_id\",\n",
    "    scans.\"action\",\n",
    "    addresses.\"address\",\n",
    "    addresses.\"type\" AS \"address_type\",\n",
    "    packages.\"contents\",\n",
    "    scans.\"timestamp\" AS \"scan_time\"\n",
    "FROM scans\n",
    "JOIN addresses ON scans.\"address_id\" = addresses.\"id\"\n",
    "JOIN packages ON packages.\"id\" = scans.\"package_id\"\n",
    "WHERE packages.\"from_address_id\" = (\n",
    "        SELECT \"id\"\n",
    "        FROM addresses\n",
    "        WHERE \"address\" = '900 Somerville Avenue'\n",
    "    )\n",
    "    AND packages.\"contents\" LIKE '%congrat%'\n",
    "ORDER BY \"address_type\"\n",
    ";\n",
    "\"\"\"\n",
    "\n",
    "df = pd.read_sql_query(query, connection)\n",
    "\n",
    "df"
   ],
   "id": "b836ebad8adb5259",
   "outputs": [
    {
     "data": {
      "text/plain": [
       "   package_id action                address address_type  \\\n",
       "0         384   Pick  900 Somerville Avenue  Residential   \n",
       "1         384   Drop      2 Finnigan Street  Residential   \n",
       "\n",
       "                contents                   scan_time  \n",
       "0  Congratulatory letter  2023-07-11 19:33:55.241794  \n",
       "1  Congratulatory letter  2023-07-11 23:07:04.432178  "
      ],
      "text/html": [
       "<div>\n",
       "<style scoped>\n",
       "    .dataframe tbody tr th:only-of-type {\n",
       "        vertical-align: middle;\n",
       "    }\n",
       "\n",
       "    .dataframe tbody tr th {\n",
       "        vertical-align: top;\n",
       "    }\n",
       "\n",
       "    .dataframe thead th {\n",
       "        text-align: right;\n",
       "    }\n",
       "</style>\n",
       "<table border=\"1\" class=\"dataframe\">\n",
       "  <thead>\n",
       "    <tr style=\"text-align: right;\">\n",
       "      <th></th>\n",
       "      <th>package_id</th>\n",
       "      <th>action</th>\n",
       "      <th>address</th>\n",
       "      <th>address_type</th>\n",
       "      <th>contents</th>\n",
       "      <th>scan_time</th>\n",
       "    </tr>\n",
       "  </thead>\n",
       "  <tbody>\n",
       "    <tr>\n",
       "      <th>0</th>\n",
       "      <td>384</td>\n",
       "      <td>Pick</td>\n",
       "      <td>900 Somerville Avenue</td>\n",
       "      <td>Residential</td>\n",
       "      <td>Congratulatory letter</td>\n",
       "      <td>2023-07-11 19:33:55.241794</td>\n",
       "    </tr>\n",
       "    <tr>\n",
       "      <th>1</th>\n",
       "      <td>384</td>\n",
       "      <td>Drop</td>\n",
       "      <td>2 Finnigan Street</td>\n",
       "      <td>Residential</td>\n",
       "      <td>Congratulatory letter</td>\n",
       "      <td>2023-07-11 23:07:04.432178</td>\n",
       "    </tr>\n",
       "  </tbody>\n",
       "</table>\n",
       "</div>"
      ]
     },
     "execution_count": 20,
     "metadata": {},
     "output_type": "execute_result"
    }
   ],
   "execution_count": 20
  },
  {
   "metadata": {},
   "cell_type": "markdown",
   "source": [
    "### Answer\n",
    "\n",
    "Our investigation of the delivery records shows a discrepancy in the destination address:\n",
    "- **Original Address**: 2 Finnegan Street\n",
    "- **Actual Delivery**: 2 Finnigan Street\n",
    "- **Status**: Delivered\n",
    "- **Contents**: Congratulatory letter"
   ],
   "id": "cfad44bc5260a7fb"
  },
  {
   "metadata": {},
   "cell_type": "markdown",
   "source": [
    "## The Devious Delivery\n",
    "\n",
    "Good day to you, deliverer of the mail. You might remember that not too long ago I made my way over from the town of Fiftyville. I gave a certain box into your reliable hands and asked you to keep things low. My associate has been expecting the package for a while now. And yet, it appears to have grown wings and flown away. Ha! Any chance you could help clarify this mystery? Afraid there’s no “From” address. It’s the kind of parcel that would add a bit more… quack to someone’s bath times, if you catch my drift."
   ],
   "id": "54f1b5a816ef5bc"
  },
  {
   "metadata": {
    "ExecuteTime": {
     "end_time": "2025-04-25T18:14:27.356731Z",
     "start_time": "2025-04-25T18:14:27.309416Z"
    }
   },
   "cell_type": "code",
   "source": [
    "query = \"\"\"\n",
    "SELECT\n",
    "    scans.\"package_id\",\n",
    "    scans.\"action\",\n",
    "    addresses.\"address\",\n",
    "    addresses.\"type\" AS \"address_type\",\n",
    "    packages.\"contents\",\n",
    "    scans.\"timestamp\" AS \"scan_time\"\n",
    "FROM scans\n",
    "JOIN addresses ON scans.\"address_id\" = addresses.\"id\"\n",
    "JOIN packages ON packages.\"id\" = scans.\"package_id\"\n",
    "WHERE packages.\"from_address_id\" IS NULL\n",
    "ORDER BY \"address_type\"\n",
    ";\n",
    "\"\"\"\n",
    "\n",
    "\n",
    "\n",
    "df = pd.read_sql_query(query, connection)\n",
    "\n",
    "df"
   ],
   "id": "c10a708d47b9a23e",
   "outputs": [
    {
     "data": {
      "text/plain": [
       "   package_id action            address    address_type       contents  \\\n",
       "0        5098   Drop   7 Humboldt Place  Police Station  Duck debugger   \n",
       "1        5098   Pick  123 Sesame Street     Residential  Duck debugger   \n",
       "\n",
       "                    scan_time  \n",
       "0  2023-10-24 10:08:55.610754  \n",
       "1  2023-10-24 08:40:16.246648  "
      ],
      "text/html": [
       "<div>\n",
       "<style scoped>\n",
       "    .dataframe tbody tr th:only-of-type {\n",
       "        vertical-align: middle;\n",
       "    }\n",
       "\n",
       "    .dataframe tbody tr th {\n",
       "        vertical-align: top;\n",
       "    }\n",
       "\n",
       "    .dataframe thead th {\n",
       "        text-align: right;\n",
       "    }\n",
       "</style>\n",
       "<table border=\"1\" class=\"dataframe\">\n",
       "  <thead>\n",
       "    <tr style=\"text-align: right;\">\n",
       "      <th></th>\n",
       "      <th>package_id</th>\n",
       "      <th>action</th>\n",
       "      <th>address</th>\n",
       "      <th>address_type</th>\n",
       "      <th>contents</th>\n",
       "      <th>scan_time</th>\n",
       "    </tr>\n",
       "  </thead>\n",
       "  <tbody>\n",
       "    <tr>\n",
       "      <th>0</th>\n",
       "      <td>5098</td>\n",
       "      <td>Drop</td>\n",
       "      <td>7 Humboldt Place</td>\n",
       "      <td>Police Station</td>\n",
       "      <td>Duck debugger</td>\n",
       "      <td>2023-10-24 10:08:55.610754</td>\n",
       "    </tr>\n",
       "    <tr>\n",
       "      <th>1</th>\n",
       "      <td>5098</td>\n",
       "      <td>Pick</td>\n",
       "      <td>123 Sesame Street</td>\n",
       "      <td>Residential</td>\n",
       "      <td>Duck debugger</td>\n",
       "      <td>2023-10-24 08:40:16.246648</td>\n",
       "    </tr>\n",
       "  </tbody>\n",
       "</table>\n",
       "</div>"
      ]
     },
     "execution_count": 21,
     "metadata": {},
     "output_type": "execute_result"
    }
   ],
   "execution_count": 21
  },
  {
   "metadata": {},
   "cell_type": "markdown",
   "source": [
    "### Answer\n",
    "\n",
    "The tracking data reveals the following package details:\n",
    "- **Package ID**: 5098\n",
    "- **Contents**: Duck debugger\n",
    "- **Current Location**: 7 Humboldt Place (Police Station)\n",
    "- **Timeline**:\n",
    "  1. Picked up: 123 Sesame Street at 08:40:16 (Oct 24, 2023)\n",
    "  2. Delivered: Police Station at 10:08:55 (Oct 24, 2023)\n",
    "- **Status**: Under police custody"
   ],
   "id": "97660586f20af757"
  },
  {
   "metadata": {},
   "cell_type": "markdown",
   "source": [
    "## The Forgotten Gift\n",
    "\n",
    "Oh, excuse me, Clerk. I had sent a mystery gift, you see, to my wonderful granddaughter, off at 728 Maple Place. That was about two weeks ago. Now the delivery date has passed by seven whole days and I hear she still waits, her hands empty and heart filled with anticipation. I’m a bit worried wondering where my package has gone. I cannot for the life of me remember what’s inside, but I do know it’s filled to the brim with my love for her. Can we possibly track it down so it can fill her day with joy? I did send it from my home at 109 Tileston Street."
   ],
   "id": "d456e813ba2a0117"
  },
  {
   "metadata": {
    "ExecuteTime": {
     "end_time": "2025-04-25T18:14:27.676910Z",
     "start_time": "2025-04-25T18:14:27.639669Z"
    }
   },
   "cell_type": "code",
   "source": [
    "query = \"\"\"\n",
    "SELECT\n",
    "    scans.\"package_id\",\n",
    "    scans.\"action\",\n",
    "    addresses.\"address\",\n",
    "    addresses.\"type\" AS \"address_type\",\n",
    "    packages.\"contents\",\n",
    "    scans.\"timestamp\" AS \"scan_time\"\n",
    "FROM scans\n",
    "JOIN addresses ON scans.\"address_id\" = addresses.\"id\"\n",
    "JOIN packages ON packages.\"id\" = scans.\"package_id\"\n",
    "WHERE packages.\"from_address_id\" = (\n",
    "    SELECT \"id\"\n",
    "    FROM addresses\n",
    "    WHERE address = '109 Tileston Street'\n",
    "    ) AND packages.\"to_address_id\" = (\n",
    "    SELECT \"id\"\n",
    "    FROM addresses\n",
    "    WHERE address = '728 Maple Place'\n",
    "    )\n",
    "ORDER BY \"address_type\"\n",
    ";\n",
    "\"\"\"\n",
    "\n",
    "\n",
    "\n",
    "df = pd.read_sql_query(query, connection)\n",
    "\n",
    "df"
   ],
   "id": "2469887fbbdca644",
   "outputs": [
    {
     "data": {
      "text/plain": [
       "   package_id action                 address address_type contents  \\\n",
       "0        9523   Pick     109 Tileston Street  Residential  Flowers   \n",
       "1        9523   Drop  950 Brannon Harris Way    Warehouse  Flowers   \n",
       "2        9523   Pick  950 Brannon Harris Way    Warehouse  Flowers   \n",
       "\n",
       "                    scan_time  \n",
       "0  2023-08-16 21:41:43.219831  \n",
       "1  2023-08-17 03:31:36.856889  \n",
       "2  2023-08-23 19:41:47.913410  "
      ],
      "text/html": [
       "<div>\n",
       "<style scoped>\n",
       "    .dataframe tbody tr th:only-of-type {\n",
       "        vertical-align: middle;\n",
       "    }\n",
       "\n",
       "    .dataframe tbody tr th {\n",
       "        vertical-align: top;\n",
       "    }\n",
       "\n",
       "    .dataframe thead th {\n",
       "        text-align: right;\n",
       "    }\n",
       "</style>\n",
       "<table border=\"1\" class=\"dataframe\">\n",
       "  <thead>\n",
       "    <tr style=\"text-align: right;\">\n",
       "      <th></th>\n",
       "      <th>package_id</th>\n",
       "      <th>action</th>\n",
       "      <th>address</th>\n",
       "      <th>address_type</th>\n",
       "      <th>contents</th>\n",
       "      <th>scan_time</th>\n",
       "    </tr>\n",
       "  </thead>\n",
       "  <tbody>\n",
       "    <tr>\n",
       "      <th>0</th>\n",
       "      <td>9523</td>\n",
       "      <td>Pick</td>\n",
       "      <td>109 Tileston Street</td>\n",
       "      <td>Residential</td>\n",
       "      <td>Flowers</td>\n",
       "      <td>2023-08-16 21:41:43.219831</td>\n",
       "    </tr>\n",
       "    <tr>\n",
       "      <th>1</th>\n",
       "      <td>9523</td>\n",
       "      <td>Drop</td>\n",
       "      <td>950 Brannon Harris Way</td>\n",
       "      <td>Warehouse</td>\n",
       "      <td>Flowers</td>\n",
       "      <td>2023-08-17 03:31:36.856889</td>\n",
       "    </tr>\n",
       "    <tr>\n",
       "      <th>2</th>\n",
       "      <td>9523</td>\n",
       "      <td>Pick</td>\n",
       "      <td>950 Brannon Harris Way</td>\n",
       "      <td>Warehouse</td>\n",
       "      <td>Flowers</td>\n",
       "      <td>2023-08-23 19:41:47.913410</td>\n",
       "    </tr>\n",
       "  </tbody>\n",
       "</table>\n",
       "</div>"
      ]
     },
     "execution_count": 22,
     "metadata": {},
     "output_type": "execute_result"
    }
   ],
   "execution_count": 22
  },
  {
   "metadata": {},
   "cell_type": "markdown",
   "source": [
    "Investigation of the delivery records shows:\n",
    "- **Package ID**: 9523\n",
    "- **Contents**: Flowers\n",
    "- **Shipping Timeline**:\n",
    "  1. Picked up from 109 Tileston Street (Aug 16, 21:41)\n",
    "  2. Delivered to warehouse at 950 Brannon Harris Way (Aug 17, 03:31)\n",
    "  3. Remained in warehouse for 6 days\n",
    "- **Status**: Delayed in transit\n",
    "- **Impact**: Due to the extended warehouse storage time, the floral delivery has likely been compromised"
   ],
   "id": "d071506ff3b4cc45"
  },
  {
   "metadata": {},
   "cell_type": "markdown",
   "source": "### Disconnecting from the Database",
   "id": "ed01ba4a65a262d0"
  },
  {
   "metadata": {
    "ExecuteTime": {
     "end_time": "2025-04-25T18:14:27.867887Z",
     "start_time": "2025-04-25T18:14:27.862945Z"
    }
   },
   "cell_type": "code",
   "source": "connection.close()",
   "id": "bde1545a5f7d07f4",
   "outputs": [],
   "execution_count": 23
  }
 ],
 "metadata": {
  "kernelspec": {
   "display_name": "Python 3",
   "language": "python",
   "name": "python3"
  },
  "language_info": {
   "codemirror_mode": {
    "name": "ipython",
    "version": 2
   },
   "file_extension": ".py",
   "mimetype": "text/x-python",
   "name": "python",
   "nbconvert_exporter": "python",
   "pygments_lexer": "ipython2",
   "version": "2.7.6"
  }
 },
 "nbformat": 4,
 "nbformat_minor": 5
}
