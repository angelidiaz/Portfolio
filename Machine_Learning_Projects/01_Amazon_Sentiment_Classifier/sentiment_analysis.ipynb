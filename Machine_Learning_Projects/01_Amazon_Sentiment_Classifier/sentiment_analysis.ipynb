{
 "cells": [
  {
   "metadata": {},
   "cell_type": "markdown",
   "source": [
    "# Sentiment Classification of Amazon Product Reviews\n",
    "\n",
    "This project presents the development of a sentiment analysis classifier applied to Amazon product reviews in the food category. The goal is to classify textual reviews as expressing either a **positive** or **negative** sentiment, represented by binary labels: +1 for positive and -1 for negative.\n",
    "\n",
    "The dataset contains written reviews from Amazon customers, with examples ranging from complaints about product quality to enthusiastic endorsements. For instance, negative reviews highlight issues such as lack of flavor or poor texture, whereas positive reviews emphasize satisfaction and high product quality.\n",
    "\n",
    "To address this classification task, we implemented two linear models: **Perceptron** and **Logistic Regression**. We explored two different text representations to encode the input data:\n",
    "\n",
    "- **Binary representation**, which encodes whether a word appears (1) or not (0) in a review.\n",
    "- **Count representation**, which counts the number of times each word appears in a review.\n",
    "\n",
    "These vectorizations were applied using a bag-of-words approach, transforming the raw text into numerical feature vectors. To evaluate the models and optimize their hyperparameters, we used **grid search** combined with **5-fold cross-validation**.\n",
    "\n",
    "This project demonstrates how classical linear classifiers, combined with simple text representations, can effectively capture sentiment patterns in consumer-generated content.\n"
   ],
   "id": "37f609eca8f1924c"
  },
  {
   "metadata": {},
   "cell_type": "markdown",
   "source": [
    "# Overview of Algorithms for Supervised Classification\n",
    "\n",
    "## 1. Perceptron Classifier\n",
    "\n",
    "**The Perceptron** is one of the earliest algorithms for supervised binary classification. It’s a type of linear classifier that updates weights iteratively when misclassifications occur. No formal loss function is minimized.\n",
    "\n",
    "### Mathematical Formulation:\n",
    "\n",
    "The decision function is:\n",
    "\n",
    "$$\n",
    "f(x) = \\text{sign}(w^\\top x + b)\n",
    "$$\n",
    "\n",
    "Where:\n",
    "\n",
    "- $ w \\in \\mathbb{R}^n $ is the weight vector.\n",
    "- $ b $ is the bias term.\n",
    "- $ x \\in \\mathbb{R}^n $ is the feature vector.\n",
    "\n",
    "## Update rule (only on misclassification):\n",
    "$$w \\leftarrow w + \\eta y_i x_i$$\n",
    "$$b \\leftarrow b + \\eta y_i$$\n",
    "\n",
    "Where:\n",
    "- $ \\eta $ is the learning rate.\n",
    "- $ x_i \\in \\mathbb{R}^n $ is the feature vector.\n",
    "- $ y_i \\in \\{-1, 1\\} $ is the true label.\n",
    "\n",
    "## Parameters used:\n",
    "- `max_iter:` Number of passes over the dataset.\n",
    "- `tol:` Tolerance for the stopping criterion.\n",
    "- `eta0:` Constant learning rate.\n",
    "\n",
    "---\n",
    "\n",
    "## 2. Logistic Regression\n",
    "\n",
    "**Logistic Regression** is a **probabilistic linear classifier** that models the **log-odds** of the class membership using a **sigmoid function**. It is commonly used for binary classification.\n",
    "\n",
    "### Prediction: Sigmoid Probability\n",
    "\n",
    "The logistic regression model estimates the probability of class $y = 1$ given input $ \\mathbf{x} \\in \\mathbb{R}^n $ as:\n",
    "\n",
    "$$\n",
    "P(y=1 \\mid \\mathbf{x}) = \\frac{1}{1 + e^{-(\\mathbf{w}^\\top \\mathbf{x} + b)}}\n",
    "$$\n",
    "\n",
    "Where:\n",
    "\n",
    "- $ \\mathbf{w} \\in \\mathbb{R}^n $ is the weight vector\n",
    "- $ b \\in \\mathbb{R} $ is the bias (intercept)\n",
    "- $ \\mathbf{x} $ is the input feature vector\n",
    "\n",
    "\n",
    "\n",
    "### Decision Rule\n",
    "\n",
    "The model predicts $ \\hat{y} \\in \\{0, 1\\} $ using the threshold rule:\n",
    "\n",
    "$$\n",
    "\\hat{y} =\n",
    "\\begin{cases}\n",
    "1 & \\text{if } P(y=1 \\mid \\mathbf{x}) \\geq 0.5 \\\\\n",
    "0 & \\text{otherwise}\n",
    "\\end{cases}\n",
    "$$\n",
    "\n",
    "\n",
    "### Loss Function: Log Loss (a.k.a. Cross Entropy)\n",
    "\n",
    "Logistic regression minimizes the **logarithmic loss**, defined for $ n $ training samples as:\n",
    "\n",
    "$$\n",
    "\\mathcal{L}(\\mathbf{w}, b) = - \\frac{1}{n} \\sum_{i=1}^{n} \\left[ y_i \\log(p_i) + (1 - y_i) \\log(1 - p_i) \\right]\n",
    "$$\n",
    "\n",
    "Where:\n",
    "\n",
    "$$\n",
    "p_i = \\frac{1}{1 + e^{-(\\mathbf{w}^\\top \\mathbf{x}_i + b)}}\n",
    "\\quad \\text{and} \\quad y_i \\in \\{0, 1\\}\n",
    "$$\n",
    "\n",
    "### Alternative Form: Logistic Loss for Labels in \\(\\{-1, +1\\}\\)\n",
    "\n",
    "When labels are encoded as $ y_i \\in \\{-1, +1\\} $, the **logistic loss** becomes:\n",
    "\n",
    "$$\n",
    "\\mathcal{L}_{\\text{log}} = \\sum_{i=1}^n \\log\\left(1 + e^{-y_i(\\mathbf{w}^\\top \\mathbf{x}_i + b)}\\right)\n",
    "$$\n",
    "\n",
    "This version is often used in theoretical analyses and optimization.\n",
    "\n",
    "### Optimization Problem (with Regularization)\n",
    "\n",
    "The regularized logistic regression solves the following optimization problem:\n",
    "\n",
    "$$\n",
    "\\min_{\\mathbf{w}, b} \\quad \\frac{1}{2C} \\|\\mathbf{w}\\|^2 + \\sum_{i=1}^n \\log\\left(1 + e^{-y_i(\\mathbf{w}^\\top \\mathbf{x}_i + b)}\\right)\n",
    "$$\n",
    "\n",
    "Where:\n",
    "\n",
    "- $ C $ is the inverse of the regularization strength.\n",
    "- Smaller $ C $ → stronger regularization.\n",
    "- $ \\frac{1}{2C} \\|\\mathbf{w}\\|^2 $ is the **L2 regularization** term.\n",
    "\n",
    "Alternatively, using the regularization parameter $ \\lambda = \\frac{1}{C} $, the problem becomes:\n",
    "\n",
    "$$\n",
    "\\min_{\\mathbf{w}, b} \\quad \\sum_{i=1}^n \\log\\left(1 + e^{-y_i(\\mathbf{w}^\\top \\mathbf{x}_i + b)}\\right) + \\frac{\\lambda}{2} \\|\\mathbf{w}\\|^2\n",
    "$$\n",
    "\n",
    "### Maximum Likelihood Interpretation\n",
    "\n",
    "Logistic regression can also be derived by **maximum likelihood estimation** under the Bernoulli model:\n",
    "\n",
    "$$\n",
    "P(y_i \\mid \\mathbf{x}_i) = \\left( \\frac{1}{1 + e^{-(\\mathbf{w}^\\top \\mathbf{x}_i + b)}} \\right)^{y_i}\n",
    "\\left( 1 - \\frac{1}{1 + e^{-(\\mathbf{w}^\\top \\mathbf{x}_i + b)}} \\right)^{1 - y_i}\n",
    "$$\n",
    "\n",
    "Taking the negative log-likelihood gives the **cross-entropy loss**, which is exactly the same as the log-loss shown earlier.\n",
    "\n",
    "### Parameters used\n",
    "\n",
    "- `C:` Inverse of regularization strength.\n",
    "- `solver='lbfgs':` Quasi-Newton method.\n",
    "- `max_iter:` Number of passes over the dataset."
   ],
   "id": "97b66587f17da30f"
  },
  {
   "metadata": {},
   "cell_type": "markdown",
   "source": "# Implementation and Analysis",
   "id": "9d3b0340b055d734"
  },
  {
   "metadata": {},
   "cell_type": "markdown",
   "source": [
    "### Library Dependencies\n",
    "\n",
    "The following libraries are essential for our analysis:"
   ],
   "id": "94c1e4872839d85b"
  },
  {
   "metadata": {
    "ExecuteTime": {
     "end_time": "2025-04-25T19:21:28.731733Z",
     "start_time": "2025-04-25T19:21:23.469489Z"
    }
   },
   "cell_type": "code",
   "source": [
    "import numpy as np\n",
    "import pandas as pd\n",
    "from preprocessing_data import train_test_data_extract\n",
    "from sklearn.model_selection import GridSearchCV\n",
    "from sklearn.linear_model import Perceptron\n",
    "from sklearn.linear_model import LogisticRegression\n",
    "import sklearn.metrics as metrics"
   ],
   "id": "initial_id",
   "outputs": [],
   "execution_count": 1
  },
  {
   "metadata": {},
   "cell_type": "markdown",
   "source": [
    "# Feature Extraction Implementation\n",
    "\n",
    "In this section, we create two different representations of our text data for sentiment analysis:\n",
    "\n",
    "## 1. Binary Feature Representation\n",
    "\n",
    "- Features are encoded as binary (0/1) values\n",
    "- 0: Word is absent in the review\n",
    "- 1: Word is present in the review\n",
    "- Ignores word frequency\n",
    "\n",
    "## 2. Count Feature Representation\n",
    "\n",
    "- Features represent word frequencies\n",
    "- Each cell contains the number of times a word appears\n",
    "- Preserves information about word frequency"
   ],
   "id": "da99e780f7478676"
  },
  {
   "metadata": {
    "ExecuteTime": {
     "end_time": "2025-04-25T19:21:30.411816Z",
     "start_time": "2025-04-25T19:21:28.753994Z"
    }
   },
   "cell_type": "code",
   "source": [
    "(train_features_binary,\n",
    " train_labels_binary,\n",
    " test_features_binary,\n",
    " test_labels_binary,\n",
    " _) = train_test_data_extract(True)\n",
    "\n",
    "(train_features_count,\n",
    " train_labels_count,\n",
    " test_features_count,\n",
    " test_labels_count,\n",
    " dictionary_words) = train_test_data_extract(False)\n",
    "\n",
    "dictionary_words = list(dictionary_words.keys())"
   ],
   "id": "ce22cdfcafe8cdf0",
   "outputs": [],
   "execution_count": 2
  },
  {
   "metadata": {},
   "cell_type": "markdown",
   "source": [
    "## greed_search_best_model()\n",
    "\n",
    "### Purpose\n",
    "Performs a grid search using `GridSearchCV` to find the best hyperparameters for:\n",
    "- `Perceptron` with different values of `eta0` (learning rate).\n",
    "- `LogisticRegression` with different values of `C` (inverse of regularization strength).\n",
    "\n",
    "### What it does:\n",
    "1. Defines the parameter grid based on the model.\n",
    "2. Applies 5-fold cross-validation.\n",
    "3. Returns:\n",
    "    - A table with mean and standard deviation of model performance.\n",
    "    - The best model found."
   ],
   "id": "b32c379b4d657e58"
  },
  {
   "metadata": {
    "ExecuteTime": {
     "end_time": "2025-04-25T19:21:31.322540Z",
     "start_time": "2025-04-25T19:21:31.306105Z"
    }
   },
   "cell_type": "code",
   "source": [
    "def greed_search_best_model(train_features,\n",
    "                            train_labels,\n",
    "                            model):\n",
    "\n",
    "    \"\"\"\n",
    "    Performs grid search with cross-validation to find optimal hyperparameters for a given model.\n",
    "\n",
    "    The function implements grid search for two types of models:\n",
    "    1. Perceptron: Searches over different learning rates (eta0)\n",
    "    2. Logistic Regression: Searches over different regularization strengths (C)\n",
    "\n",
    "    Args:\n",
    "        train_features (np.ndarray): Training feature matrix of shape (n_samples, n_features)\n",
    "        train_labels (np.ndarray): Training labels of shape (n_samples,)\n",
    "        model (str): Model type, either 'perceptron' or 'logistic_regression'\n",
    "\n",
    "    Returns:\n",
    "        tuple: Contains:\n",
    "            - summary_table (pd.DataFrame): Results of grid search with columns:\n",
    "                * parameter (eta0/C)\n",
    "                * mean_test_score\n",
    "                * std_test_score\n",
    "            - best_estimator (sklearn estimator): Model with best parameters\n",
    "            - best_params (dict): Best parameters found\n",
    "\n",
    "    Notes:\n",
    "        - Uses 5-fold cross-validation\n",
    "        - For Perceptron: eta0 ∈ [0.01, 0.05, 0.1, 0.5, 1]\n",
    "        - For Logistic Regression: C ∈ [0.001, 0.01, 0.1, 1, 10, 100, 1000]\n",
    "    \"\"\"\n",
    "\n",
    "    grid_search = None\n",
    "    if model == 'perceptron':\n",
    "        parameters = {'eta0': [0.01, 0.05, 0.1, 0.5, 1]}\n",
    "        grid_search = GridSearchCV(Perceptron(), parameters, cv=5)\n",
    "    elif model == 'logistic_regression':\n",
    "        parameters = {'C': [0.001, 0.01, 0.1, 1, 10, 100, 1000]}\n",
    "        grid_search = GridSearchCV(LogisticRegression(max_iter=1000000), parameters, cv=5)\n",
    "    grid_search.fit(train_features, train_labels)\n",
    "\n",
    "    results_df = pd.DataFrame(grid_search.cv_results_)\n",
    "\n",
    "    parameter = 'eta0' if model == 'perceptron' else 'C'\n",
    "    summary_table = pd.DataFrame({\n",
    "        parameter: results_df['param_' + parameter].astype(float),\n",
    "        'mean_test_score': results_df['mean_test_score'],\n",
    "        'std_test_score': results_df['std_test_score']\n",
    "    })\n",
    "\n",
    "    return summary_table, grid_search.best_estimator_, grid_search.best_params_"
   ],
   "id": "fcca31fac6f6c2cc",
   "outputs": [],
   "execution_count": 3
  },
  {
   "metadata": {},
   "cell_type": "markdown",
   "source": [
    "## accuracy_scores()\n",
    "\n",
    "### Purpose\n",
    "Evaluates a model on both training and test data. Calculates:\n",
    "- `accuracy_score` from `sklearn.metrics` (percentage of correctly predicted labels).\n",
    "\n",
    "\n",
    "### What it does:\n",
    "$$\n",
    "\\hat{y}_{\\text{train}} = \\text{model.predict}(x_{\\text{train}}), \\quad \\hat{y}_{\\text{test}} = \\text{model.predict}(x_{\\text{test}})\n",
    "$$\n",
    "$$\n",
    "\\text{Accuracy} = \\frac{1}{n} \\sum_{i=1}^{n} \\mathbb{1}(\\hat{y}_i = y_i)\n",
    "$$"
   ],
   "id": "a27b4d3c1004835f"
  },
  {
   "metadata": {
    "ExecuteTime": {
     "end_time": "2025-04-25T19:21:31.409815Z",
     "start_time": "2025-04-25T19:21:31.398845Z"
    }
   },
   "cell_type": "code",
   "source": [
    "def accuracy_scores(model,\n",
    "                    x_train,\n",
    "                    y_train,\n",
    "                    x_test,\n",
    "                    y_test):\n",
    "    \"\"\"\n",
    "    Evaluates model performance on both training and test sets.\n",
    "\n",
    "    Calculates accuracy scores using sklearn.metrics.accuracy_score for both\n",
    "    training and test datasets, providing insight into model generalization.\n",
    "\n",
    "    Args:\n",
    "        model (sklearn estimator): Trained classification model\n",
    "        x_train (np.ndarray): Training features\n",
    "        y_train (np.ndarray): Training labels\n",
    "        x_test (np.ndarray): Test features\n",
    "        y_test (np.ndarray): Test labels\n",
    "\n",
    "    Returns:\n",
    "        pd.DataFrame: Results DataFrame with columns:\n",
    "            - 'Dataset': ['Training Data', 'Test Data']\n",
    "            - 'Accuracy': Corresponding accuracy scores\n",
    "    \"\"\"\n",
    "\n",
    "\n",
    "    y_pred_test = model.predict(x_test)\n",
    "    y_pred_train = model.predict(x_train)\n",
    "    train_accuracy = metrics.accuracy_score(y_train, y_pred_train)\n",
    "    test_accuracy = metrics.accuracy_score(y_test, y_pred_test)\n",
    "    # Create a DataFrame to display the results\n",
    "    results = pd.DataFrame({\n",
    "        'Dataset': ['Training Data', 'Test Data'],\n",
    "        'Accuracy': [train_accuracy, test_accuracy]\n",
    "    })\n",
    "\n",
    "    return results\n",
    "\n",
    "def analysis_best_model(model, data_type):\n",
    "    \"\"\"\n",
    "    Performs comprehensive model analysis including cross-validation,\n",
    "    performance evaluation, and feature importance analysis.\n",
    "\n",
    "    This function combines model training, evaluation, and analysis to provide\n",
    "    a complete picture of model performance and interpretability.\n",
    "\n",
    "    Args:\n",
    "        model (str): Model type ('perceptron' or 'logistic_regression')\n",
    "        data_type (str): Feature representation type ('binary' or 'count')\n",
    "\n",
    "    Returns:\n",
    "        tuple: Contains:\n",
    "            - results_cv (pd.DataFrame): Cross-validation results\n",
    "            - results_best_model (pd.DataFrame): Performance metrics on train/test sets\n",
    "            - best_params (dict): Best hyperparameters found\n",
    "            - feature_importance (pd.DataFrame): Top 10 most important features with\n",
    "                their absolute coefficient values\n",
    "\n",
    "    Note:\n",
    "        Feature importance is determined by the absolute values of model coefficients,\n",
    "        which indicate the strength of each feature's influence on the classification.\n",
    "    \"\"\"\n",
    "\n",
    "    train_features, train_labels, test_features, test_labels = None, None, None, None\n",
    "    if data_type == 'binary':\n",
    "        train_features = train_features_binary\n",
    "        train_labels = train_labels_binary\n",
    "        test_features = test_features_binary\n",
    "        test_labels = test_labels_binary\n",
    "\n",
    "    elif data_type == 'count':\n",
    "        train_features = train_features_count\n",
    "        train_labels = train_labels_count\n",
    "        test_features = test_features_count\n",
    "        test_labels = test_labels_count\n",
    "\n",
    "\n",
    "    (results_cv,\n",
    "    best_model,\n",
    "    best_params) = greed_search_best_model(train_features,\n",
    "                                            train_labels,\n",
    "                                            model)\n",
    "\n",
    "    results_best_model = accuracy_scores(best_model,\n",
    "                                        train_features,\n",
    "                                        train_labels,\n",
    "                                        test_features,\n",
    "                                        test_labels)\n",
    "\n",
    "    coefficients = best_model.coef_[0]\n",
    "\n",
    "    feature_importance = pd.DataFrame({\n",
    "    'Feature': dictionary_words,\n",
    "    'Absolute_Coefficient': np.abs(coefficients)\n",
    "    })\n",
    "\n",
    "    feature_importance = feature_importance.sort_values(by='Absolute_Coefficient', ascending=False)\n",
    "\n",
    "    return results_cv, results_best_model, best_params, feature_importance.head(10)\n"
   ],
   "id": "3d493dd02a548e95",
   "outputs": [],
   "execution_count": 4
  },
  {
   "metadata": {},
   "cell_type": "markdown",
   "source": "## Analysis of Perceptron Performance on Binary Encoded Data",
   "id": "dbf874bbeef25614"
  },
  {
   "metadata": {
    "ExecuteTime": {
     "end_time": "2025-04-25T19:22:08.459604Z",
     "start_time": "2025-04-25T19:21:31.459212Z"
    }
   },
   "cell_type": "code",
   "source": [
    "(results_perceptron_binary_cv,\n",
    "results_perceptron_binary_best_model,\n",
    "perceptron_binary_best_params,\n",
    "perceptron_binary_feature_importance) = analysis_best_model('perceptron', 'binary')"
   ],
   "id": "3b43c69d9054f9d8",
   "outputs": [],
   "execution_count": 5
  },
  {
   "metadata": {},
   "cell_type": "markdown",
   "source": "### Grid Search Results for Perceptron (Binary Feature Representation):",
   "id": "80514bc1a3571709"
  },
  {
   "metadata": {
    "ExecuteTime": {
     "end_time": "2025-04-25T19:22:08.591804Z",
     "start_time": "2025-04-25T19:22:08.575784Z"
    }
   },
   "cell_type": "code",
   "source": "results_perceptron_binary_cv",
   "id": "5fd1bac6c7ebcda",
   "outputs": [
    {
     "data": {
      "text/plain": [
       "   eta0  mean_test_score  std_test_score\n",
       "0  0.01          0.77825        0.011742\n",
       "1  0.05          0.77650        0.017073\n",
       "2  0.10          0.78275        0.018138\n",
       "3  0.50          0.78550        0.009830\n",
       "4  1.00          0.78725        0.010350"
      ],
      "text/html": [
       "<div>\n",
       "<style scoped>\n",
       "    .dataframe tbody tr th:only-of-type {\n",
       "        vertical-align: middle;\n",
       "    }\n",
       "\n",
       "    .dataframe tbody tr th {\n",
       "        vertical-align: top;\n",
       "    }\n",
       "\n",
       "    .dataframe thead th {\n",
       "        text-align: right;\n",
       "    }\n",
       "</style>\n",
       "<table border=\"1\" class=\"dataframe\">\n",
       "  <thead>\n",
       "    <tr style=\"text-align: right;\">\n",
       "      <th></th>\n",
       "      <th>eta0</th>\n",
       "      <th>mean_test_score</th>\n",
       "      <th>std_test_score</th>\n",
       "    </tr>\n",
       "  </thead>\n",
       "  <tbody>\n",
       "    <tr>\n",
       "      <th>0</th>\n",
       "      <td>0.01</td>\n",
       "      <td>0.77825</td>\n",
       "      <td>0.011742</td>\n",
       "    </tr>\n",
       "    <tr>\n",
       "      <th>1</th>\n",
       "      <td>0.05</td>\n",
       "      <td>0.77650</td>\n",
       "      <td>0.017073</td>\n",
       "    </tr>\n",
       "    <tr>\n",
       "      <th>2</th>\n",
       "      <td>0.10</td>\n",
       "      <td>0.78275</td>\n",
       "      <td>0.018138</td>\n",
       "    </tr>\n",
       "    <tr>\n",
       "      <th>3</th>\n",
       "      <td>0.50</td>\n",
       "      <td>0.78550</td>\n",
       "      <td>0.009830</td>\n",
       "    </tr>\n",
       "    <tr>\n",
       "      <th>4</th>\n",
       "      <td>1.00</td>\n",
       "      <td>0.78725</td>\n",
       "      <td>0.010350</td>\n",
       "    </tr>\n",
       "  </tbody>\n",
       "</table>\n",
       "</div>"
      ]
     },
     "execution_count": 6,
     "metadata": {},
     "output_type": "execute_result"
    }
   ],
   "execution_count": 6
  },
  {
   "metadata": {},
   "cell_type": "markdown",
   "source": "### Best Parameters:",
   "id": "65ec664de6afcf4c"
  },
  {
   "metadata": {
    "ExecuteTime": {
     "end_time": "2025-04-25T19:22:08.725045Z",
     "start_time": "2025-04-25T19:22:08.719360Z"
    }
   },
   "cell_type": "code",
   "source": "perceptron_binary_best_params",
   "id": "42fc704e524f7c24",
   "outputs": [
    {
     "data": {
      "text/plain": [
       "{'eta0': 1}"
      ]
     },
     "execution_count": 7,
     "metadata": {},
     "output_type": "execute_result"
    }
   ],
   "execution_count": 7
  },
  {
   "metadata": {},
   "cell_type": "markdown",
   "source": "### Accuracy Results for Best Model on Training and Test Sets for Perceptron (Binary Feature Representation)",
   "id": "f4f91354859046ea"
  },
  {
   "metadata": {
    "ExecuteTime": {
     "end_time": "2025-04-25T19:22:09.749753Z",
     "start_time": "2025-04-25T19:22:09.738897Z"
    }
   },
   "cell_type": "code",
   "source": "results_perceptron_binary_best_model",
   "id": "29ec0a4cdfae1c7",
   "outputs": [
    {
     "data": {
      "text/plain": [
       "         Dataset  Accuracy\n",
       "0  Training Data   0.99875\n",
       "1      Test Data   0.79600"
      ],
      "text/html": [
       "<div>\n",
       "<style scoped>\n",
       "    .dataframe tbody tr th:only-of-type {\n",
       "        vertical-align: middle;\n",
       "    }\n",
       "\n",
       "    .dataframe tbody tr th {\n",
       "        vertical-align: top;\n",
       "    }\n",
       "\n",
       "    .dataframe thead th {\n",
       "        text-align: right;\n",
       "    }\n",
       "</style>\n",
       "<table border=\"1\" class=\"dataframe\">\n",
       "  <thead>\n",
       "    <tr style=\"text-align: right;\">\n",
       "      <th></th>\n",
       "      <th>Dataset</th>\n",
       "      <th>Accuracy</th>\n",
       "    </tr>\n",
       "  </thead>\n",
       "  <tbody>\n",
       "    <tr>\n",
       "      <th>0</th>\n",
       "      <td>Training Data</td>\n",
       "      <td>0.99875</td>\n",
       "    </tr>\n",
       "    <tr>\n",
       "      <th>1</th>\n",
       "      <td>Test Data</td>\n",
       "      <td>0.79600</td>\n",
       "    </tr>\n",
       "  </tbody>\n",
       "</table>\n",
       "</div>"
      ]
     },
     "execution_count": 8,
     "metadata": {},
     "output_type": "execute_result"
    }
   ],
   "execution_count": 8
  },
  {
   "metadata": {},
   "cell_type": "markdown",
   "source": "### Top 10 most important features",
   "id": "6e9995d19b599b8"
  },
  {
   "metadata": {
    "ExecuteTime": {
     "end_time": "2025-04-25T19:22:09.911762Z",
     "start_time": "2025-04-25T19:22:09.868943Z"
    }
   },
   "cell_type": "code",
   "source": "perceptron_binary_feature_importance",
   "id": "5fe9a4aad77d35dc",
   "outputs": [
    {
     "data": {
      "text/plain": [
       "             Feature  Absolute_Coefficient\n",
       "1483  disappointment                  26.0\n",
       "141            awful                  26.0\n",
       "2038           worst                  26.0\n",
       "2475      originally                  25.0\n",
       "3163       perfectly                  24.0\n",
       "1669        horrible                  24.0\n",
       "153     disappointed                  23.0\n",
       "3360      reasonable                  23.0\n",
       "3006       including                  22.0\n",
       "3834          newman                  22.0"
      ],
      "text/html": [
       "<div>\n",
       "<style scoped>\n",
       "    .dataframe tbody tr th:only-of-type {\n",
       "        vertical-align: middle;\n",
       "    }\n",
       "\n",
       "    .dataframe tbody tr th {\n",
       "        vertical-align: top;\n",
       "    }\n",
       "\n",
       "    .dataframe thead th {\n",
       "        text-align: right;\n",
       "    }\n",
       "</style>\n",
       "<table border=\"1\" class=\"dataframe\">\n",
       "  <thead>\n",
       "    <tr style=\"text-align: right;\">\n",
       "      <th></th>\n",
       "      <th>Feature</th>\n",
       "      <th>Absolute_Coefficient</th>\n",
       "    </tr>\n",
       "  </thead>\n",
       "  <tbody>\n",
       "    <tr>\n",
       "      <th>1483</th>\n",
       "      <td>disappointment</td>\n",
       "      <td>26.0</td>\n",
       "    </tr>\n",
       "    <tr>\n",
       "      <th>141</th>\n",
       "      <td>awful</td>\n",
       "      <td>26.0</td>\n",
       "    </tr>\n",
       "    <tr>\n",
       "      <th>2038</th>\n",
       "      <td>worst</td>\n",
       "      <td>26.0</td>\n",
       "    </tr>\n",
       "    <tr>\n",
       "      <th>2475</th>\n",
       "      <td>originally</td>\n",
       "      <td>25.0</td>\n",
       "    </tr>\n",
       "    <tr>\n",
       "      <th>3163</th>\n",
       "      <td>perfectly</td>\n",
       "      <td>24.0</td>\n",
       "    </tr>\n",
       "    <tr>\n",
       "      <th>1669</th>\n",
       "      <td>horrible</td>\n",
       "      <td>24.0</td>\n",
       "    </tr>\n",
       "    <tr>\n",
       "      <th>153</th>\n",
       "      <td>disappointed</td>\n",
       "      <td>23.0</td>\n",
       "    </tr>\n",
       "    <tr>\n",
       "      <th>3360</th>\n",
       "      <td>reasonable</td>\n",
       "      <td>23.0</td>\n",
       "    </tr>\n",
       "    <tr>\n",
       "      <th>3006</th>\n",
       "      <td>including</td>\n",
       "      <td>22.0</td>\n",
       "    </tr>\n",
       "    <tr>\n",
       "      <th>3834</th>\n",
       "      <td>newman</td>\n",
       "      <td>22.0</td>\n",
       "    </tr>\n",
       "  </tbody>\n",
       "</table>\n",
       "</div>"
      ]
     },
     "execution_count": 9,
     "metadata": {},
     "output_type": "execute_result"
    }
   ],
   "execution_count": 9
  },
  {
   "metadata": {},
   "cell_type": "markdown",
   "source": "## Analysis of Perceptron Performance on Count Encoded Data",
   "id": "84915d656169225c"
  },
  {
   "metadata": {
    "ExecuteTime": {
     "end_time": "2025-04-25T19:22:57.826256Z",
     "start_time": "2025-04-25T19:22:10.072741Z"
    }
   },
   "cell_type": "code",
   "source": [
    "(results_perceptron_count_cv,\n",
    "results_perceptron_count_best_model,\n",
    "perceptron_count_best_params,\n",
    "perceptron_count_feature_importance) = analysis_best_model('perceptron', 'count')"
   ],
   "id": "c6a17d814e72059c",
   "outputs": [],
   "execution_count": 10
  },
  {
   "metadata": {},
   "cell_type": "markdown",
   "source": "### Grid Search Results for Perceptron (Count Feature Representation):",
   "id": "6698d5457d2b0224"
  },
  {
   "metadata": {
    "ExecuteTime": {
     "end_time": "2025-04-25T19:22:57.923271Z",
     "start_time": "2025-04-25T19:22:57.914247Z"
    }
   },
   "cell_type": "code",
   "source": "results_perceptron_count_cv",
   "id": "3ce1b18a17e2999b",
   "outputs": [
    {
     "data": {
      "text/plain": [
       "   eta0  mean_test_score  std_test_score\n",
       "0  0.01          0.77900        0.019452\n",
       "1  0.05          0.76675        0.020242\n",
       "2  0.10          0.76675        0.020242\n",
       "3  0.50          0.78025        0.020115\n",
       "4  1.00          0.78025        0.020115"
      ],
      "text/html": [
       "<div>\n",
       "<style scoped>\n",
       "    .dataframe tbody tr th:only-of-type {\n",
       "        vertical-align: middle;\n",
       "    }\n",
       "\n",
       "    .dataframe tbody tr th {\n",
       "        vertical-align: top;\n",
       "    }\n",
       "\n",
       "    .dataframe thead th {\n",
       "        text-align: right;\n",
       "    }\n",
       "</style>\n",
       "<table border=\"1\" class=\"dataframe\">\n",
       "  <thead>\n",
       "    <tr style=\"text-align: right;\">\n",
       "      <th></th>\n",
       "      <th>eta0</th>\n",
       "      <th>mean_test_score</th>\n",
       "      <th>std_test_score</th>\n",
       "    </tr>\n",
       "  </thead>\n",
       "  <tbody>\n",
       "    <tr>\n",
       "      <th>0</th>\n",
       "      <td>0.01</td>\n",
       "      <td>0.77900</td>\n",
       "      <td>0.019452</td>\n",
       "    </tr>\n",
       "    <tr>\n",
       "      <th>1</th>\n",
       "      <td>0.05</td>\n",
       "      <td>0.76675</td>\n",
       "      <td>0.020242</td>\n",
       "    </tr>\n",
       "    <tr>\n",
       "      <th>2</th>\n",
       "      <td>0.10</td>\n",
       "      <td>0.76675</td>\n",
       "      <td>0.020242</td>\n",
       "    </tr>\n",
       "    <tr>\n",
       "      <th>3</th>\n",
       "      <td>0.50</td>\n",
       "      <td>0.78025</td>\n",
       "      <td>0.020115</td>\n",
       "    </tr>\n",
       "    <tr>\n",
       "      <th>4</th>\n",
       "      <td>1.00</td>\n",
       "      <td>0.78025</td>\n",
       "      <td>0.020115</td>\n",
       "    </tr>\n",
       "  </tbody>\n",
       "</table>\n",
       "</div>"
      ]
     },
     "execution_count": 11,
     "metadata": {},
     "output_type": "execute_result"
    }
   ],
   "execution_count": 11
  },
  {
   "metadata": {},
   "cell_type": "markdown",
   "source": "### Best Parameters",
   "id": "ecf54b9ce6445eaa"
  },
  {
   "metadata": {
    "ExecuteTime": {
     "end_time": "2025-04-25T19:22:58.093086Z",
     "start_time": "2025-04-25T19:22:58.086471Z"
    }
   },
   "cell_type": "code",
   "source": "perceptron_count_best_params",
   "id": "9df6f9eccd23d04e",
   "outputs": [
    {
     "data": {
      "text/plain": [
       "{'eta0': 0.5}"
      ]
     },
     "execution_count": 12,
     "metadata": {},
     "output_type": "execute_result"
    }
   ],
   "execution_count": 12
  },
  {
   "metadata": {},
   "cell_type": "markdown",
   "source": "### Accuracy Results for Best Model on Training and Test Sets for Perceptron (Count Feature Representation)",
   "id": "31723d83c1eff53d"
  },
  {
   "metadata": {
    "ExecuteTime": {
     "end_time": "2025-04-25T19:22:58.378513Z",
     "start_time": "2025-04-25T19:22:58.368701Z"
    }
   },
   "cell_type": "code",
   "source": "results_perceptron_count_best_model",
   "id": "383e71c0d840ae3f",
   "outputs": [
    {
     "data": {
      "text/plain": [
       "         Dataset  Accuracy\n",
       "0  Training Data    0.9835\n",
       "1      Test Data    0.7720"
      ],
      "text/html": [
       "<div>\n",
       "<style scoped>\n",
       "    .dataframe tbody tr th:only-of-type {\n",
       "        vertical-align: middle;\n",
       "    }\n",
       "\n",
       "    .dataframe tbody tr th {\n",
       "        vertical-align: top;\n",
       "    }\n",
       "\n",
       "    .dataframe thead th {\n",
       "        text-align: right;\n",
       "    }\n",
       "</style>\n",
       "<table border=\"1\" class=\"dataframe\">\n",
       "  <thead>\n",
       "    <tr style=\"text-align: right;\">\n",
       "      <th></th>\n",
       "      <th>Dataset</th>\n",
       "      <th>Accuracy</th>\n",
       "    </tr>\n",
       "  </thead>\n",
       "  <tbody>\n",
       "    <tr>\n",
       "      <th>0</th>\n",
       "      <td>Training Data</td>\n",
       "      <td>0.9835</td>\n",
       "    </tr>\n",
       "    <tr>\n",
       "      <th>1</th>\n",
       "      <td>Test Data</td>\n",
       "      <td>0.7720</td>\n",
       "    </tr>\n",
       "  </tbody>\n",
       "</table>\n",
       "</div>"
      ]
     },
     "execution_count": 13,
     "metadata": {},
     "output_type": "execute_result"
    }
   ],
   "execution_count": 13
  },
  {
   "metadata": {},
   "cell_type": "markdown",
   "source": "### Top 10 most important features",
   "id": "95889b9c4705c3ed"
  },
  {
   "metadata": {
    "ExecuteTime": {
     "end_time": "2025-04-25T19:22:58.506477Z",
     "start_time": "2025-04-25T19:22:58.492671Z"
    }
   },
   "cell_type": "code",
   "source": "perceptron_count_feature_importance",
   "id": "33f339f460d4ec89",
   "outputs": [
    {
     "data": {
      "text/plain": [
       "             Feature  Absolute_Coefficient\n",
       "2038           worst                  68.0\n",
       "607        delicious                  67.5\n",
       "153     disappointed                  62.0\n",
       "1669        horrible                  60.5\n",
       "751    unfortunately                  57.0\n",
       "4618            ball                  56.0\n",
       "329          perfect                  54.5\n",
       "666               ok                  53.5\n",
       "750             glad                  50.5\n",
       "1483  disappointment                  50.0"
      ],
      "text/html": [
       "<div>\n",
       "<style scoped>\n",
       "    .dataframe tbody tr th:only-of-type {\n",
       "        vertical-align: middle;\n",
       "    }\n",
       "\n",
       "    .dataframe tbody tr th {\n",
       "        vertical-align: top;\n",
       "    }\n",
       "\n",
       "    .dataframe thead th {\n",
       "        text-align: right;\n",
       "    }\n",
       "</style>\n",
       "<table border=\"1\" class=\"dataframe\">\n",
       "  <thead>\n",
       "    <tr style=\"text-align: right;\">\n",
       "      <th></th>\n",
       "      <th>Feature</th>\n",
       "      <th>Absolute_Coefficient</th>\n",
       "    </tr>\n",
       "  </thead>\n",
       "  <tbody>\n",
       "    <tr>\n",
       "      <th>2038</th>\n",
       "      <td>worst</td>\n",
       "      <td>68.0</td>\n",
       "    </tr>\n",
       "    <tr>\n",
       "      <th>607</th>\n",
       "      <td>delicious</td>\n",
       "      <td>67.5</td>\n",
       "    </tr>\n",
       "    <tr>\n",
       "      <th>153</th>\n",
       "      <td>disappointed</td>\n",
       "      <td>62.0</td>\n",
       "    </tr>\n",
       "    <tr>\n",
       "      <th>1669</th>\n",
       "      <td>horrible</td>\n",
       "      <td>60.5</td>\n",
       "    </tr>\n",
       "    <tr>\n",
       "      <th>751</th>\n",
       "      <td>unfortunately</td>\n",
       "      <td>57.0</td>\n",
       "    </tr>\n",
       "    <tr>\n",
       "      <th>4618</th>\n",
       "      <td>ball</td>\n",
       "      <td>56.0</td>\n",
       "    </tr>\n",
       "    <tr>\n",
       "      <th>329</th>\n",
       "      <td>perfect</td>\n",
       "      <td>54.5</td>\n",
       "    </tr>\n",
       "    <tr>\n",
       "      <th>666</th>\n",
       "      <td>ok</td>\n",
       "      <td>53.5</td>\n",
       "    </tr>\n",
       "    <tr>\n",
       "      <th>750</th>\n",
       "      <td>glad</td>\n",
       "      <td>50.5</td>\n",
       "    </tr>\n",
       "    <tr>\n",
       "      <th>1483</th>\n",
       "      <td>disappointment</td>\n",
       "      <td>50.0</td>\n",
       "    </tr>\n",
       "  </tbody>\n",
       "</table>\n",
       "</div>"
      ]
     },
     "execution_count": 14,
     "metadata": {},
     "output_type": "execute_result"
    }
   ],
   "execution_count": 14
  },
  {
   "metadata": {},
   "cell_type": "markdown",
   "source": "## Analysis of Logistic Regression Performance on Binary Encoded Data",
   "id": "3ce3097a7143dcd9"
  },
  {
   "metadata": {
    "ExecuteTime": {
     "end_time": "2025-04-25T19:24:45.481169Z",
     "start_time": "2025-04-25T19:22:58.651879Z"
    }
   },
   "cell_type": "code",
   "source": [
    "(results_regression_binary_cv,\n",
    "results_regression_binary_best_model,\n",
    "regression_binary_best_params,\n",
    "regression_binary_feature_importance) = analysis_best_model('logistic_regression',\n",
    "                                                            'binary')"
   ],
   "id": "d9b4a7baff94096",
   "outputs": [],
   "execution_count": 15
  },
  {
   "metadata": {},
   "cell_type": "markdown",
   "source": "### Grid Search Results for Logistic Regression (Binary Feature Representation):",
   "id": "1e801a0ef73b7383"
  },
  {
   "metadata": {
    "ExecuteTime": {
     "end_time": "2025-04-25T19:24:46.155120Z",
     "start_time": "2025-04-25T19:24:46.139272Z"
    }
   },
   "cell_type": "code",
   "source": "results_regression_binary_cv",
   "id": "1a5f54e7fc762be",
   "outputs": [
    {
     "data": {
      "text/plain": [
       "          C  mean_test_score  std_test_score\n",
       "0     0.001          0.73875        0.014296\n",
       "1     0.010          0.78875        0.011990\n",
       "2     0.100          0.80250        0.013229\n",
       "3     1.000          0.80400        0.012831\n",
       "4    10.000          0.79675        0.013661\n",
       "5   100.000          0.79125        0.011429\n",
       "6  1000.000          0.78900        0.015580"
      ],
      "text/html": [
       "<div>\n",
       "<style scoped>\n",
       "    .dataframe tbody tr th:only-of-type {\n",
       "        vertical-align: middle;\n",
       "    }\n",
       "\n",
       "    .dataframe tbody tr th {\n",
       "        vertical-align: top;\n",
       "    }\n",
       "\n",
       "    .dataframe thead th {\n",
       "        text-align: right;\n",
       "    }\n",
       "</style>\n",
       "<table border=\"1\" class=\"dataframe\">\n",
       "  <thead>\n",
       "    <tr style=\"text-align: right;\">\n",
       "      <th></th>\n",
       "      <th>C</th>\n",
       "      <th>mean_test_score</th>\n",
       "      <th>std_test_score</th>\n",
       "    </tr>\n",
       "  </thead>\n",
       "  <tbody>\n",
       "    <tr>\n",
       "      <th>0</th>\n",
       "      <td>0.001</td>\n",
       "      <td>0.73875</td>\n",
       "      <td>0.014296</td>\n",
       "    </tr>\n",
       "    <tr>\n",
       "      <th>1</th>\n",
       "      <td>0.010</td>\n",
       "      <td>0.78875</td>\n",
       "      <td>0.011990</td>\n",
       "    </tr>\n",
       "    <tr>\n",
       "      <th>2</th>\n",
       "      <td>0.100</td>\n",
       "      <td>0.80250</td>\n",
       "      <td>0.013229</td>\n",
       "    </tr>\n",
       "    <tr>\n",
       "      <th>3</th>\n",
       "      <td>1.000</td>\n",
       "      <td>0.80400</td>\n",
       "      <td>0.012831</td>\n",
       "    </tr>\n",
       "    <tr>\n",
       "      <th>4</th>\n",
       "      <td>10.000</td>\n",
       "      <td>0.79675</td>\n",
       "      <td>0.013661</td>\n",
       "    </tr>\n",
       "    <tr>\n",
       "      <th>5</th>\n",
       "      <td>100.000</td>\n",
       "      <td>0.79125</td>\n",
       "      <td>0.011429</td>\n",
       "    </tr>\n",
       "    <tr>\n",
       "      <th>6</th>\n",
       "      <td>1000.000</td>\n",
       "      <td>0.78900</td>\n",
       "      <td>0.015580</td>\n",
       "    </tr>\n",
       "  </tbody>\n",
       "</table>\n",
       "</div>"
      ]
     },
     "execution_count": 16,
     "metadata": {},
     "output_type": "execute_result"
    }
   ],
   "execution_count": 16
  },
  {
   "metadata": {},
   "cell_type": "markdown",
   "source": "### Best Parameters",
   "id": "2cb5adfe363dc32f"
  },
  {
   "metadata": {
    "ExecuteTime": {
     "end_time": "2025-04-25T19:24:46.297326Z",
     "start_time": "2025-04-25T19:24:46.253347Z"
    }
   },
   "cell_type": "code",
   "source": "regression_binary_best_params",
   "id": "2ad60c07a2d4a7a8",
   "outputs": [
    {
     "data": {
      "text/plain": [
       "{'C': 1}"
      ]
     },
     "execution_count": 17,
     "metadata": {},
     "output_type": "execute_result"
    }
   ],
   "execution_count": 17
  },
  {
   "metadata": {},
   "cell_type": "markdown",
   "source": "### Accuracy Results for Best Model on Training and Test Sets for Logistic Regrgession (Binary Feature Representation):",
   "id": "32ca6bbf61983d7"
  },
  {
   "metadata": {
    "ExecuteTime": {
     "end_time": "2025-04-25T19:24:46.646629Z",
     "start_time": "2025-04-25T19:24:46.637281Z"
    }
   },
   "cell_type": "code",
   "source": "results_regression_binary_best_model",
   "id": "3da66d8899b3c827",
   "outputs": [
    {
     "data": {
      "text/plain": [
       "         Dataset  Accuracy\n",
       "0  Training Data     0.991\n",
       "1      Test Data     0.810"
      ],
      "text/html": [
       "<div>\n",
       "<style scoped>\n",
       "    .dataframe tbody tr th:only-of-type {\n",
       "        vertical-align: middle;\n",
       "    }\n",
       "\n",
       "    .dataframe tbody tr th {\n",
       "        vertical-align: top;\n",
       "    }\n",
       "\n",
       "    .dataframe thead th {\n",
       "        text-align: right;\n",
       "    }\n",
       "</style>\n",
       "<table border=\"1\" class=\"dataframe\">\n",
       "  <thead>\n",
       "    <tr style=\"text-align: right;\">\n",
       "      <th></th>\n",
       "      <th>Dataset</th>\n",
       "      <th>Accuracy</th>\n",
       "    </tr>\n",
       "  </thead>\n",
       "  <tbody>\n",
       "    <tr>\n",
       "      <th>0</th>\n",
       "      <td>Training Data</td>\n",
       "      <td>0.991</td>\n",
       "    </tr>\n",
       "    <tr>\n",
       "      <th>1</th>\n",
       "      <td>Test Data</td>\n",
       "      <td>0.810</td>\n",
       "    </tr>\n",
       "  </tbody>\n",
       "</table>\n",
       "</div>"
      ]
     },
     "execution_count": 18,
     "metadata": {},
     "output_type": "execute_result"
    }
   ],
   "execution_count": 18
  },
  {
   "metadata": {},
   "cell_type": "markdown",
   "source": "### Top 10 most important features",
   "id": "b768e85d6be602f2"
  },
  {
   "metadata": {
    "ExecuteTime": {
     "end_time": "2025-04-25T19:24:46.749943Z",
     "start_time": "2025-04-25T19:24:46.740337Z"
    }
   },
   "cell_type": "code",
   "source": "regression_binary_feature_importance",
   "id": "fdd7981d0189cde",
   "outputs": [
    {
     "data": {
      "text/plain": [
       "             Feature  Absolute_Coefficient\n",
       "607        delicious              1.698068\n",
       "141            awful              1.582719\n",
       "153     disappointed              1.579949\n",
       "329          perfect              1.467616\n",
       "1483  disappointment              1.462417\n",
       "751    unfortunately              1.431611\n",
       "2038           worst              1.415653\n",
       "666               ok              1.367475\n",
       "275            great              1.354981\n",
       "1025      disgusting              1.314040"
      ],
      "text/html": [
       "<div>\n",
       "<style scoped>\n",
       "    .dataframe tbody tr th:only-of-type {\n",
       "        vertical-align: middle;\n",
       "    }\n",
       "\n",
       "    .dataframe tbody tr th {\n",
       "        vertical-align: top;\n",
       "    }\n",
       "\n",
       "    .dataframe thead th {\n",
       "        text-align: right;\n",
       "    }\n",
       "</style>\n",
       "<table border=\"1\" class=\"dataframe\">\n",
       "  <thead>\n",
       "    <tr style=\"text-align: right;\">\n",
       "      <th></th>\n",
       "      <th>Feature</th>\n",
       "      <th>Absolute_Coefficient</th>\n",
       "    </tr>\n",
       "  </thead>\n",
       "  <tbody>\n",
       "    <tr>\n",
       "      <th>607</th>\n",
       "      <td>delicious</td>\n",
       "      <td>1.698068</td>\n",
       "    </tr>\n",
       "    <tr>\n",
       "      <th>141</th>\n",
       "      <td>awful</td>\n",
       "      <td>1.582719</td>\n",
       "    </tr>\n",
       "    <tr>\n",
       "      <th>153</th>\n",
       "      <td>disappointed</td>\n",
       "      <td>1.579949</td>\n",
       "    </tr>\n",
       "    <tr>\n",
       "      <th>329</th>\n",
       "      <td>perfect</td>\n",
       "      <td>1.467616</td>\n",
       "    </tr>\n",
       "    <tr>\n",
       "      <th>1483</th>\n",
       "      <td>disappointment</td>\n",
       "      <td>1.462417</td>\n",
       "    </tr>\n",
       "    <tr>\n",
       "      <th>751</th>\n",
       "      <td>unfortunately</td>\n",
       "      <td>1.431611</td>\n",
       "    </tr>\n",
       "    <tr>\n",
       "      <th>2038</th>\n",
       "      <td>worst</td>\n",
       "      <td>1.415653</td>\n",
       "    </tr>\n",
       "    <tr>\n",
       "      <th>666</th>\n",
       "      <td>ok</td>\n",
       "      <td>1.367475</td>\n",
       "    </tr>\n",
       "    <tr>\n",
       "      <th>275</th>\n",
       "      <td>great</td>\n",
       "      <td>1.354981</td>\n",
       "    </tr>\n",
       "    <tr>\n",
       "      <th>1025</th>\n",
       "      <td>disgusting</td>\n",
       "      <td>1.314040</td>\n",
       "    </tr>\n",
       "  </tbody>\n",
       "</table>\n",
       "</div>"
      ]
     },
     "execution_count": 19,
     "metadata": {},
     "output_type": "execute_result"
    }
   ],
   "execution_count": 19
  },
  {
   "metadata": {},
   "cell_type": "markdown",
   "source": "## Analysis of Logistic Regression Performance on Count Encoded Data",
   "id": "e236e70a07391bc7"
  },
  {
   "metadata": {
    "ExecuteTime": {
     "end_time": "2025-04-25T19:32:03.484240Z",
     "start_time": "2025-04-25T19:24:46.899087Z"
    }
   },
   "cell_type": "code",
   "source": [
    "(results_regression_count_cv,\n",
    "results_regression_count_best_model,\n",
    "regression_count_best_params,\n",
    "regression_count_feature_importance) = analysis_best_model('logistic_regression',\n",
    "                                                            'count')"
   ],
   "id": "7d0891768ed003f7",
   "outputs": [],
   "execution_count": 20
  },
  {
   "metadata": {},
   "cell_type": "markdown",
   "source": "### Grid Search Results for Logistic Regression (Count Feature Representation):",
   "id": "eb7eb5451abcf7a4"
  },
  {
   "metadata": {
    "ExecuteTime": {
     "end_time": "2025-04-25T19:32:03.812239Z",
     "start_time": "2025-04-25T19:32:03.796352Z"
    }
   },
   "cell_type": "code",
   "source": "results_regression_count_cv",
   "id": "9d07072ea11aa2de",
   "outputs": [
    {
     "data": {
      "text/plain": [
       "          C  mean_test_score  std_test_score\n",
       "0     0.001          0.73025        0.013309\n",
       "1     0.010          0.77525        0.008711\n",
       "2     0.100          0.80725        0.011922\n",
       "3     1.000          0.79600        0.010648\n",
       "4    10.000          0.78450        0.007969\n",
       "5   100.000          0.78400        0.009918\n",
       "6  1000.000          0.78550        0.013933"
      ],
      "text/html": [
       "<div>\n",
       "<style scoped>\n",
       "    .dataframe tbody tr th:only-of-type {\n",
       "        vertical-align: middle;\n",
       "    }\n",
       "\n",
       "    .dataframe tbody tr th {\n",
       "        vertical-align: top;\n",
       "    }\n",
       "\n",
       "    .dataframe thead th {\n",
       "        text-align: right;\n",
       "    }\n",
       "</style>\n",
       "<table border=\"1\" class=\"dataframe\">\n",
       "  <thead>\n",
       "    <tr style=\"text-align: right;\">\n",
       "      <th></th>\n",
       "      <th>C</th>\n",
       "      <th>mean_test_score</th>\n",
       "      <th>std_test_score</th>\n",
       "    </tr>\n",
       "  </thead>\n",
       "  <tbody>\n",
       "    <tr>\n",
       "      <th>0</th>\n",
       "      <td>0.001</td>\n",
       "      <td>0.73025</td>\n",
       "      <td>0.013309</td>\n",
       "    </tr>\n",
       "    <tr>\n",
       "      <th>1</th>\n",
       "      <td>0.010</td>\n",
       "      <td>0.77525</td>\n",
       "      <td>0.008711</td>\n",
       "    </tr>\n",
       "    <tr>\n",
       "      <th>2</th>\n",
       "      <td>0.100</td>\n",
       "      <td>0.80725</td>\n",
       "      <td>0.011922</td>\n",
       "    </tr>\n",
       "    <tr>\n",
       "      <th>3</th>\n",
       "      <td>1.000</td>\n",
       "      <td>0.79600</td>\n",
       "      <td>0.010648</td>\n",
       "    </tr>\n",
       "    <tr>\n",
       "      <th>4</th>\n",
       "      <td>10.000</td>\n",
       "      <td>0.78450</td>\n",
       "      <td>0.007969</td>\n",
       "    </tr>\n",
       "    <tr>\n",
       "      <th>5</th>\n",
       "      <td>100.000</td>\n",
       "      <td>0.78400</td>\n",
       "      <td>0.009918</td>\n",
       "    </tr>\n",
       "    <tr>\n",
       "      <th>6</th>\n",
       "      <td>1000.000</td>\n",
       "      <td>0.78550</td>\n",
       "      <td>0.013933</td>\n",
       "    </tr>\n",
       "  </tbody>\n",
       "</table>\n",
       "</div>"
      ]
     },
     "execution_count": 21,
     "metadata": {},
     "output_type": "execute_result"
    }
   ],
   "execution_count": 21
  },
  {
   "metadata": {},
   "cell_type": "markdown",
   "source": "### Best Parameters",
   "id": "78c19ca1fda606a5"
  },
  {
   "metadata": {
    "ExecuteTime": {
     "end_time": "2025-04-25T19:32:03.946025Z",
     "start_time": "2025-04-25T19:32:03.916361Z"
    }
   },
   "cell_type": "code",
   "source": "regression_count_best_params",
   "id": "be122c79fe25b053",
   "outputs": [
    {
     "data": {
      "text/plain": [
       "{'C': 0.1}"
      ]
     },
     "execution_count": 22,
     "metadata": {},
     "output_type": "execute_result"
    }
   ],
   "execution_count": 22
  },
  {
   "metadata": {},
   "cell_type": "markdown",
   "source": "\"Accuracy Results for Best Model on Training and Test Sets for Logistic Regrgession (Count Feature Representation):",
   "id": "4e1d24e23e76a1dc"
  },
  {
   "metadata": {
    "ExecuteTime": {
     "end_time": "2025-04-25T19:32:04.150905Z",
     "start_time": "2025-04-25T19:32:04.139223Z"
    }
   },
   "cell_type": "code",
   "source": "results_regression_count_best_model",
   "id": "27d3e8f76702afea",
   "outputs": [
    {
     "data": {
      "text/plain": [
       "         Dataset  Accuracy\n",
       "0  Training Data   0.94625\n",
       "1      Test Data   0.79800"
      ],
      "text/html": [
       "<div>\n",
       "<style scoped>\n",
       "    .dataframe tbody tr th:only-of-type {\n",
       "        vertical-align: middle;\n",
       "    }\n",
       "\n",
       "    .dataframe tbody tr th {\n",
       "        vertical-align: top;\n",
       "    }\n",
       "\n",
       "    .dataframe thead th {\n",
       "        text-align: right;\n",
       "    }\n",
       "</style>\n",
       "<table border=\"1\" class=\"dataframe\">\n",
       "  <thead>\n",
       "    <tr style=\"text-align: right;\">\n",
       "      <th></th>\n",
       "      <th>Dataset</th>\n",
       "      <th>Accuracy</th>\n",
       "    </tr>\n",
       "  </thead>\n",
       "  <tbody>\n",
       "    <tr>\n",
       "      <th>0</th>\n",
       "      <td>Training Data</td>\n",
       "      <td>0.94625</td>\n",
       "    </tr>\n",
       "    <tr>\n",
       "      <th>1</th>\n",
       "      <td>Test Data</td>\n",
       "      <td>0.79800</td>\n",
       "    </tr>\n",
       "  </tbody>\n",
       "</table>\n",
       "</div>"
      ]
     },
     "execution_count": 23,
     "metadata": {},
     "output_type": "execute_result"
    }
   ],
   "execution_count": 23
  },
  {
   "metadata": {},
   "cell_type": "markdown",
   "source": "### Top 10 most important features",
   "id": "7b684f044f3748f8"
  },
  {
   "metadata": {
    "ExecuteTime": {
     "end_time": "2025-04-25T19:32:04.257026Z",
     "start_time": "2025-04-25T19:32:04.247941Z"
    }
   },
   "cell_type": "code",
   "source": "regression_count_feature_importance",
   "id": "6fd35b56baf60d5b",
   "outputs": [
    {
     "data": {
      "text/plain": [
       "          Feature  Absolute_Coefficient\n",
       "607     delicious              1.018176\n",
       "153  disappointed              0.844344\n",
       "275         great              0.837651\n",
       "329       perfect              0.720934\n",
       "26            bad              0.697556\n",
       "221       however              0.693031\n",
       "551          best              0.679971\n",
       "963         loves              0.646232\n",
       "754      favorite              0.622688\n",
       "4             not              0.608240"
      ],
      "text/html": [
       "<div>\n",
       "<style scoped>\n",
       "    .dataframe tbody tr th:only-of-type {\n",
       "        vertical-align: middle;\n",
       "    }\n",
       "\n",
       "    .dataframe tbody tr th {\n",
       "        vertical-align: top;\n",
       "    }\n",
       "\n",
       "    .dataframe thead th {\n",
       "        text-align: right;\n",
       "    }\n",
       "</style>\n",
       "<table border=\"1\" class=\"dataframe\">\n",
       "  <thead>\n",
       "    <tr style=\"text-align: right;\">\n",
       "      <th></th>\n",
       "      <th>Feature</th>\n",
       "      <th>Absolute_Coefficient</th>\n",
       "    </tr>\n",
       "  </thead>\n",
       "  <tbody>\n",
       "    <tr>\n",
       "      <th>607</th>\n",
       "      <td>delicious</td>\n",
       "      <td>1.018176</td>\n",
       "    </tr>\n",
       "    <tr>\n",
       "      <th>153</th>\n",
       "      <td>disappointed</td>\n",
       "      <td>0.844344</td>\n",
       "    </tr>\n",
       "    <tr>\n",
       "      <th>275</th>\n",
       "      <td>great</td>\n",
       "      <td>0.837651</td>\n",
       "    </tr>\n",
       "    <tr>\n",
       "      <th>329</th>\n",
       "      <td>perfect</td>\n",
       "      <td>0.720934</td>\n",
       "    </tr>\n",
       "    <tr>\n",
       "      <th>26</th>\n",
       "      <td>bad</td>\n",
       "      <td>0.697556</td>\n",
       "    </tr>\n",
       "    <tr>\n",
       "      <th>221</th>\n",
       "      <td>however</td>\n",
       "      <td>0.693031</td>\n",
       "    </tr>\n",
       "    <tr>\n",
       "      <th>551</th>\n",
       "      <td>best</td>\n",
       "      <td>0.679971</td>\n",
       "    </tr>\n",
       "    <tr>\n",
       "      <th>963</th>\n",
       "      <td>loves</td>\n",
       "      <td>0.646232</td>\n",
       "    </tr>\n",
       "    <tr>\n",
       "      <th>754</th>\n",
       "      <td>favorite</td>\n",
       "      <td>0.622688</td>\n",
       "    </tr>\n",
       "    <tr>\n",
       "      <th>4</th>\n",
       "      <td>not</td>\n",
       "      <td>0.608240</td>\n",
       "    </tr>\n",
       "  </tbody>\n",
       "</table>\n",
       "</div>"
      ]
     },
     "execution_count": 24,
     "metadata": {},
     "output_type": "execute_result"
    }
   ],
   "execution_count": 24
  },
  {
   "metadata": {},
   "cell_type": "markdown",
   "source": [
    "# Results Analysis\n",
    "\n",
    "## Performance Comparison Among Best Models\n",
    "### Perceptron with Binary Features:\n",
    "  - Training Accuracy: 0.99875\n",
    "  - Test Accuracy: 0.796\n",
    "  - Mean Test Score: 0.787\n",
    "  - STD Test Score:0.0103\n",
    "\n",
    "### Perceptron with Count Features:\n",
    "  - Training Accuracy: 0.9835\n",
    "  - Test Accuracy: 0.772\n",
    "  - Mean Test Score: 0.78\n",
    "  - STD Test Score:0.02\n",
    "\n",
    "### Logistic Regression with Binary Features:\n",
    "  - Training Accuracy: 0.991\n",
    "  - Test Accuracy: 0.810\n",
    "  - Mean Test Score: 0.804\n",
    "  - STD Test Score: 0.012\n",
    "\n",
    "### Logistic Regression with Count Features:\n",
    "  - Training Accuracy: 0.946\n",
    "  - Test Accuracy: 0.798\n",
    "  - Mean Test Score: 0.807\n",
    "  - STD Test Score: 0.011\n",
    "\n",
    "\n",
    "#### *Based on extensive cross-validation and performance metrics, the Logistic Regression model with regularization parameter C=1.0, trained on binary bag-of-words features, achieved optimal sentiment classification with 81.0% accuracy.*"
   ],
   "id": "735dc52446118c00"
  }
 ],
 "metadata": {
  "kernelspec": {
   "display_name": "Python 3",
   "language": "python",
   "name": "python3"
  },
  "language_info": {
   "codemirror_mode": {
    "name": "ipython",
    "version": 2
   },
   "file_extension": ".py",
   "mimetype": "text/x-python",
   "name": "python",
   "nbconvert_exporter": "python",
   "pygments_lexer": "ipython2",
   "version": "2.7.6"
  }
 },
 "nbformat": 4,
 "nbformat_minor": 5
}
