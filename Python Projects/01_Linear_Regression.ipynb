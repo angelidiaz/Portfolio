{
 "cells": [
  {
   "metadata": {},
   "cell_type": "raw",
   "source": [
    "This project consist in analyzing data which is created ramdomly under this sense:\n",
    "sin(x) + a noise.\n",
    "The way we are going to analyze the data is using linear regression and varying over\n",
    "the number of coeffcientes. that means, we are going to create 10 models,\n",
    "n = 1, ...., 10, which is going to have the maximun power of n.\n"
   ],
   "id": "cead5be5c2af8422"
  },
  {
   "metadata": {},
   "cell_type": "markdown",
   "source": "Importing necessary libraries:",
   "id": "2765f8bd3936e9d7"
  },
  {
   "metadata": {
    "ExecuteTime": {
     "end_time": "2025-01-26T23:21:21.808110Z",
     "start_time": "2025-01-26T23:21:21.803108Z"
    }
   },
   "cell_type": "code",
   "source": [
    "import numpy as np\n",
    "import matplotlib.pyplot as plt\n",
    "from sklearn.model_selection import train_test_split\n",
    "from sklearn.linear_model import LinearRegression, Ridge, Lasso\n",
    "from sklearn.metrics import mean_squared_error"
   ],
   "id": "4033bcf2a15d9192",
   "outputs": [],
   "execution_count": 13
  },
  {
   "metadata": {},
   "cell_type": "markdown",
   "source": "Generating the data.",
   "id": "751983a5dffc6da3"
  },
  {
   "metadata": {
    "ExecuteTime": {
     "end_time": "2025-01-26T23:21:21.853619Z",
     "start_time": "2025-01-26T23:21:21.839594Z"
    }
   },
   "cell_type": "code",
   "source": [
    "number_data = 30\n",
    "vector_x = np.linspace(0, 2 * np.pi, number_data)\n",
    "vector_y = np.sin(vector_x) + 0.3 * (np.random.rand(number_data) - 0.5)\n",
    "X_data = np.array([vector_x, vector_y]).T"
   ],
   "id": "ed19bba648e6aec7",
   "outputs": [],
   "execution_count": 14
  },
  {
   "metadata": {},
   "cell_type": "markdown",
   "source": "Graphing the data",
   "id": "2b3e62e9accf5d11"
  },
  {
   "metadata": {
    "ExecuteTime": {
     "end_time": "2025-01-26T23:21:22.029839Z",
     "start_time": "2025-01-26T23:21:21.887856Z"
    }
   },
   "cell_type": "code",
   "source": [
    "fig, ax = plt.subplots( )\n",
    "\n",
    "ax.scatter(vector_x, vector_y)\n",
    "\n",
    "plt.show()"
   ],
   "id": "9eb57ce55a6385b3",
   "outputs": [
    {
     "data": {
      "text/plain": [
       "<Figure size 640x480 with 1 Axes>"
      ],
      "image/png": "[encoded data removed]"
     },
     "metadata": {},
     "output_type": "display_data"
    }
   ],
   "execution_count": 15
  },
  {
   "metadata": {},
   "cell_type": "markdown",
   "source": [
    "## Creating Functions\n",
    "\n",
    "We are going to create three different functions.\n",
    "<ol>\n",
    "<li>Linear Regression without any regularization.</li>\n",
    "<li>Linear Regression using Ridge regularization.</li>\n",
    "<li>Linear Regression using Lasso regularization.</li>\n",
    "</ol>"
   ],
   "id": "6f822e2f36a6d4c4"
  },
  {
   "metadata": {
    "ExecuteTime": {
     "end_time": "2025-01-26T23:21:22.250834Z",
     "start_time": "2025-01-26T23:21:22.067357Z"
    }
   },
   "cell_type": "code",
   "source": [
    "def concatenate_powers(data, n_power):\n",
    "    data_x = data[:, 0]\n",
    "    data_y = data[:, 1]\n",
    "    new_data = [data_x]\n",
    "    for k in range(2, n_power + 1):\n",
    "        new_data.append(data_x * new_data[-1])\n",
    "\n",
    "    new_data.append(data_y)\n",
    "    return np.array(new_data).T\n",
    "\n",
    "def linear_regression(data, to_graph=False):\n",
    "    x_train, x_test, y_train, y_test = train_test_split(data[:,:-1],\n",
    "                                                                data[:,-1],\n",
    "                                                                random_state=42)\n",
    "    # x_train = x_train.reshape((-1,1))\n",
    "    # x_test = x_test.reshape((-1,1))\n",
    "\n",
    "\n",
    "    reg = LinearRegression()\n",
    "    reg.fit(x_train, y_train)\n",
    "    y_test_predicted = reg.predict(x_test)\n",
    "\n",
    "    mean_error = mean_squared_error(y_test, y_test_predicted)\n",
    "\n",
    "    coefficients = reg.coef_\n",
    "    intercept = reg.intercept_\n",
    "\n",
    "    print(\"Coefficients: \")\n",
    "    print(coefficients)\n",
    "    print(\"Intercept: \")\n",
    "    print(intercept)\n",
    "    print(\"Mean Squared Error: \")\n",
    "    print(mean_error)\n",
    "\n",
    "    y_predicted = data[:, :-1] @ coefficients + intercept\n",
    "    if to_graph:\n",
    "        fig, ax = plt.subplots( )\n",
    "        ax.scatter(data[:, 0], data[:, -1])\n",
    "        ax.plot(data[:, 0], y_predicted)\n",
    "        plt.show()\n",
    "\n",
    "    return mean_error, coefficients, intercept, y_predicted\n",
    "\n",
    "\n",
    "def linear_regression_ridge(data, alpha, to_graph=False):\n",
    "    x_train, x_test, y_train, y_test = train_test_split(data[:,:-1],\n",
    "                                                                data[:,-1],\n",
    "                                                                random_state=42)\n",
    "    # x_train = x_train.reshape((-1,1))\n",
    "    # x_test = x_test.reshape((-1,1))\n",
    "\n",
    "\n",
    "    reg = Ridge(alpha)\n",
    "    reg.fit(x_train, y_train)\n",
    "    y_test_predicted = reg.predict(x_test)\n",
    "\n",
    "    mean_error = mean_squared_error(y_test, y_test_predicted)\n",
    "\n",
    "    coefficients = reg.coef_\n",
    "    intercept = reg.intercept_\n",
    "\n",
    "    print(\"Coefficients: \")\n",
    "    print(coefficients)\n",
    "    print(\"Intercept: \")\n",
    "    print(intercept)\n",
    "    print(\"Mean Squared Error: \")\n",
    "    print(mean_error)\n",
    "\n",
    "    y_predicted = data[:, :-1] @ coefficients + intercept\n",
    "    if to_graph:\n",
    "        fig, ax = plt.subplots( )\n",
    "        ax.scatter(data[:, 0], data[:, -1])\n",
    "        ax.plot(data[:, 0], y_predicted)\n",
    "        plt.show()\n",
    "\n",
    "    return mean_error, coefficients, intercept, y_predicted\n",
    "\n",
    "\n",
    "def linear_regression_lasso(data, alpha, to_graph=False):\n",
    "    x_train, x_test, y_train, y_test = train_test_split(data[:,:-1],\n",
    "                                                                data[:,-1],\n",
    "                                                                random_state=42)\n",
    "    # x_train = x_train.reshape((-1,1))\n",
    "    # x_test = x_test.reshape((-1,1))\n",
    "\n",
    "\n",
    "    reg = Lasso(alpha)\n",
    "    reg.fit(x_train, y_train)\n",
    "    y_test_predicted = reg.predict(x_test)\n",
    "\n",
    "    mean_error = mean_squared_error(y_test, y_test_predicted)\n",
    "\n",
    "    coefficients = reg.coef_\n",
    "    intercept = reg.intercept_\n",
    "\n",
    "    print(\"Coefficients: \")\n",
    "    print(coefficients)\n",
    "    print(\"Intercept: \")\n",
    "    print(intercept)\n",
    "    print(\"Mean Squared Error: \")\n",
    "    print(mean_error)\n",
    "\n",
    "    y_predicted = data[:, :-1] @ coefficients + intercept\n",
    "    if to_graph:\n",
    "        fig, ax = plt.subplots( )\n",
    "        ax.scatter(data[:, 0], data[:, -1])\n",
    "        ax.plot(data[:, 0], y_predicted)\n",
    "        plt.show()\n",
    "\n",
    "    return mean_error, coefficients, intercept, y_predicted\n",
    "\n",
    "linear_regression_lasso(concatenate_powers(X_data, 4), 0.5, to_graph=True)"
   ],
   "id": "1593c8c49020a2bd",
   "outputs": [
    {
     "name": "stdout",
     "output_type": "stream",
     "text": [
      "Coefficients: \n",
      "[ 0.         -0.         -0.04692009  0.0069045 ]\n",
      "Intercept: \n",
      "0.7249537648463976\n",
      "Mean Squared Error: \n",
      "0.052910342781725905\n"
     ]
    },
    {
     "data": {
      "text/plain": [
       "<Figure size 640x480 with 1 Axes>"
      ],
      "image/png": "[encoded data removed]"
     },
     "metadata": {},
     "output_type": "display_data"
    },
    {
     "data": {
      "text/plain": [
       "(0.052910342781725905,\n",
       " array([ 0.        , -0.        , -0.04692009,  0.0069045 ]),\n",
       " np.float64(0.7249537648463976),\n",
       " array([ 7.24953765e-01,  7.24491775e-01,  7.21379563e-01,  7.13301627e-01,\n",
       "         6.98307616e-01,  6.74812329e-01,  6.41595712e-01,  5.97802865e-01,\n",
       "         5.42944036e-01,  4.76894622e-01,  3.99895172e-01,  3.12551382e-01,\n",
       "         2.15834102e-01,  1.11079328e-01, -1.17920999e-05, -1.15372961e-01,\n",
       "        -2.32572731e-01, -3.48814506e-01, -4.60936538e-01, -5.65411929e-01,\n",
       "        -6.58348635e-01, -7.35489456e-01, -7.92212047e-01, -8.23528912e-01,\n",
       "        -8.24087403e-01, -7.88169724e-01, -7.09692930e-01, -5.82208922e-01,\n",
       "        -3.98904457e-01, -1.52601137e-01]))"
      ]
     },
     "execution_count": 16,
     "metadata": {},
     "output_type": "execute_result"
    }
   ],
   "execution_count": 16
  },
  {
   "metadata": {
    "ExecuteTime": {
     "end_time": "2025-01-26T23:21:22.292168Z",
     "start_time": "2025-01-26T23:21:22.289354Z"
    }
   },
   "cell_type": "code",
   "source": "",
   "id": "ba87dd66c8bdad52",
   "outputs": [],
   "execution_count": null
  }
 ],
 "metadata": {
  "kernelspec": {
   "display_name": "Python 3",
   "language": "python",
   "name": "python3"
  },
  "language_info": {
   "codemirror_mode": {
    "name": "ipython",
    "version": 2
   },
   "file_extension": ".py",
   "mimetype": "text/x-python",
   "name": "python",
   "nbconvert_exporter": "python",
   "pygments_lexer": "ipython2",
   "version": "2.7.6"
  }
 },
 "nbformat": 4,
 "nbformat_minor": 5
}
